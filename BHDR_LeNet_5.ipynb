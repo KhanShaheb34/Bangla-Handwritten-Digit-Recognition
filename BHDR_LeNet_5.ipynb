{
 "cells": [
  {
   "cell_type": "markdown",
   "metadata": {},
   "source": [
    "# Implementation of LeNet-5 for Bangla Handwritten Digit Recognition\n",
    "\n",
    "*The Paper: [[LeCun et al., 1998. Gradient-Based Learning Applied to Document Recognition]](http://yann.lecun.com/exdb/publis/pdf/lecun-01a.pdf)*"
   ]
  },
  {
   "cell_type": "code",
   "execution_count": 1,
   "metadata": {},
   "outputs": [],
   "source": [
    "import numpy as np\n",
    "import pandas as pd\n",
    "import matplotlib.pyplot as plt\n",
    "import tensorflow as tf\n",
    "from tensorflow import keras\n",
    "from sklearn.preprocessing import OneHotEncoder\n",
    "\n",
    "%matplotlib inline"
   ]
  },
  {
   "cell_type": "code",
   "execution_count": 2,
   "metadata": {},
   "outputs": [],
   "source": [
    "# Loading the dataset\n",
    "X_train_orig = pd.read_json('./dataset/train_images.json', ' ').to_numpy()\n",
    "Y_train_orig = pd.read_json('./dataset/train_labels.json', ' ').to_numpy()\n",
    "X_test_orig = pd.read_json('./dataset/test_images.json', ' ').to_numpy()\n",
    "Y_test_orig = pd.read_json('./dataset/test_labels.json', ' ').to_numpy()"
   ]
  },
  {
   "cell_type": "code",
   "execution_count": 3,
   "metadata": {},
   "outputs": [
    {
     "name": "stdout",
     "output_type": "stream",
     "text": [
      "[5]\n"
     ]
    },
    {
     "data": {
      "image/png": "[encoded data removed]",
      "text/plain": [
       "<Figure size 432x288 with 1 Axes>"
      ]
     },
     "metadata": {
      "needs_background": "light"
     },
     "output_type": "display_data"
    }
   ],
   "source": [
    "# Checking up some data\n",
    "index = 183\n",
    "temp_x_data = X_train_orig[index].reshape(28, 28)\n",
    "temp_y_data = Y_train_orig[index]\n",
    "\n",
    "plt.imshow(temp_x_data, cmap='gray')\n",
    "print(temp_y_data)"
   ]
  },
  {
   "cell_type": "code",
   "execution_count": 4,
   "metadata": {},
   "outputs": [
    {
     "name": "stdout",
     "output_type": "stream",
     "text": [
      "(23824, 28, 28, 1)\n",
      "(23824, 10)\n",
      "(2653, 28, 28, 1)\n",
      "(2653, 10)\n"
     ]
    }
   ],
   "source": [
    "# Setting up the label\n",
    "Y_train = tf.one_hot(Y_train_orig, 10, axis=1)[:,:,0]\n",
    "Y_test = tf.one_hot(Y_test_orig, 10, axis=1)[:,:,0]\n",
    "\n",
    "# Normalizing the dataset\n",
    "X_test = X_test_orig.reshape(X_test_orig.shape[0], 28, 28, 1) / 255\n",
    "X_train = X_train_orig.reshape(X_train_orig.shape[0], 28, 28, 1) / 255\n",
    "\n",
    "# Checking the shape of the dataset\n",
    "print(X_train.shape)\n",
    "print(Y_train.shape)\n",
    "print(X_test.shape)\n",
    "print(Y_test.shape)"
   ]
  },
  {
   "cell_type": "markdown",
   "metadata": {},
   "source": [
    "## Model Architecture\n",
    "\n",
    "|     Layers    | Feature Map |  Size | Kernel Size | Stride | Padding | Activation |\n",
    "|:-------------:|:-----------:|:-----:|:-----------:|:------:|:-------:|:----------:|\n",
    "| Input - Image |      1      | 28x28 |      -      |    -   |    -    |      -     |\n",
    "|    Conv2D-1   |      6      | 28x28 |     5x5     |    1   |   SAME  |    tanh    |\n",
    "|  AvgPool2D-2  |      6      | 14x14 |     2x2     |    2   |    -    |      -     |\n",
    "|    Conv2D-3   |      16     | 10x10 |     5x5     |    1   |    -    |    tanh    |\n",
    "|  AvgPool2D-4  |      16     |  5x5  |     2x2     |    2   |    -    |      -     |\n",
    "|    Conv2D-5   |     120     |  1x1  |     5x5     |    1   |    -    |    tanh    |\n",
    "|      FC-6     |      -      |   84  |      -      |    -   |    -    |    tanh    |\n",
    "|      FC-7     |      -      |   10  |      -      |    -   |    -    |   softmax  |\n",
    "\n",
    "> AS the model works on 32x32x1 size images, I had to use SAME padding to make my 28x28 images work."
   ]
  },
  {
   "cell_type": "code",
   "execution_count": 5,
   "metadata": {},
   "outputs": [
    {
     "name": "stdout",
     "output_type": "stream",
     "text": [
      "Epoch 1/6\n",
      "745/745 [==============================] - 9s 12ms/step - loss: 0.2508 - accuracy: 0.9257 - val_loss: 0.1217 - val_accuracy: 0.9668\n",
      "Epoch 2/6\n",
      "745/745 [==============================] - 10s 13ms/step - loss: 0.0862 - accuracy: 0.9738 - val_loss: 0.0960 - val_accuracy: 0.9714\n",
      "Epoch 3/6\n",
      "745/745 [==============================] - 9s 12ms/step - loss: 0.0560 - accuracy: 0.9827 - val_loss: 0.0641 - val_accuracy: 0.9808\n",
      "Epoch 4/6\n",
      "745/745 [==============================] - 7s 10ms/step - loss: 0.0382 - accuracy: 0.9889 - val_loss: 0.0599 - val_accuracy: 0.9823\n",
      "Epoch 5/6\n",
      "745/745 [==============================] - 8s 10ms/step - loss: 0.0299 - accuracy: 0.9908 - val_loss: 0.0562 - val_accuracy: 0.9861\n",
      "Epoch 6/6\n",
      "745/745 [==============================] - 9s 12ms/step - loss: 0.0256 - accuracy: 0.9917 - val_loss: 0.0614 - val_accuracy: 0.9827\n"
     ]
    }
   ],
   "source": [
    "model = keras.Sequential()\n",
    "\n",
    "model.add(tf.keras.Input(shape=(28,28,1), name='digits'))\n",
    "model.add(keras.layers.Conv2D(6, (5,5), padding=\"same\", activation=\"tanh\"))\n",
    "model.add(keras.layers.AvgPool2D(pool_size=(2, 2), strides=(2, 2)))\n",
    "model.add(keras.layers.Conv2D(16, (5,5), activation=\"tanh\"))\n",
    "model.add(keras.layers.AvgPool2D(pool_size=(2, 2), strides=(2, 2)))\n",
    "model.add(keras.layers.Conv2D(120, (5,5), activation=\"tanh\"))\n",
    "model.add(keras.layers.Flatten())\n",
    "model.add(keras.layers.Dense(84, activation=\"tanh\"))\n",
    "model.add(keras.layers.Dense(10, activation=\"softmax\"))\n",
    "\n",
    "model.compile(optimizer=\"Adam\", loss=keras.losses.CategoricalCrossentropy(), metrics=['accuracy'])\n",
    "\n",
    "history = model.fit(X_train, Y_train, epochs=6, validation_data=(X_test, Y_test))"
   ]
  },
  {
   "cell_type": "code",
   "execution_count": 6,
   "metadata": {},
   "outputs": [
    {
     "name": "stdout",
     "output_type": "stream",
     "text": [
      "83/83 [==============================] - 0s 6ms/step - loss: 0.0614 - accuracy: 0.9827\n",
      "test loss, test acc: [0.061415571719408035, 0.9826611280441284]\n"
     ]
    },
    {
     "data": {
      "image/png": "[encoded data removed]",
      "text/plain": [
       "<Figure size 432x288 with 2 Axes>"
      ]
     },
     "metadata": {
      "needs_background": "light"
     },
     "output_type": "display_data"
    }
   ],
   "source": [
    "results = model.evaluate(X_test, Y_test)\n",
    "print('test loss, test acc:', results)\n",
    "\n",
    "fig, (plt1, plt2) = plt.subplots(2,1)\n",
    "\n",
    "plt1.plot(history.history[\"loss\"])\n",
    "plt1.plot(history.history[\"val_loss\"])\n",
    "\n",
    "plt2.plot(history.history[\"accuracy\"])\n",
    "plt2.plot(history.history[\"val_accuracy\"])\n",
    "plt.show()"
   ]
  },
  {
   "cell_type": "markdown",
   "metadata": {},
   "source": [
    "The implementation of LeNet-5 for Bangla Handwritten Digit Recognition finishes here.\n",
    "\n",
    "As this is a very old paper, some of the new technologies came recently to that may increase the accuracy. I'm going to try them here."
   ]
  },
  {
   "cell_type": "code",
   "execution_count": 7,
   "metadata": {},
   "outputs": [
    {
     "name": "stdout",
     "output_type": "stream",
     "text": [
      "Epoch 1/6\n",
      "745/745 [==============================] - 9s 12ms/step - loss: 0.2672 - accuracy: 0.9163 - val_loss: 0.1008 - val_accuracy: 0.9721\n",
      "Epoch 2/6\n",
      "745/745 [==============================] - 9s 13ms/step - loss: 0.0728 - accuracy: 0.9783 - val_loss: 0.0602 - val_accuracy: 0.9838\n",
      "Epoch 3/6\n",
      "745/745 [==============================] - 10s 13ms/step - loss: 0.0519 - accuracy: 0.9838 - val_loss: 0.0472 - val_accuracy: 0.9868\n",
      "Epoch 4/6\n",
      "745/745 [==============================] - 9s 12ms/step - loss: 0.0368 - accuracy: 0.9885 - val_loss: 0.0447 - val_accuracy: 0.9857\n",
      "Epoch 5/6\n",
      "745/745 [==============================] - 9s 12ms/step - loss: 0.0286 - accuracy: 0.9912 - val_loss: 0.0753 - val_accuracy: 0.9804\n",
      "Epoch 6/6\n",
      "745/745 [==============================] - 8s 11ms/step - loss: 0.0229 - accuracy: 0.9930 - val_loss: 0.0460 - val_accuracy: 0.9864\n"
     ]
    }
   ],
   "source": [
    "model2 = keras.Sequential()\n",
    "\n",
    "model2.add(tf.keras.Input(shape=(28,28,1), name='digits'))\n",
    "model2.add(keras.layers.Conv2D(6, (5,5), padding=\"same\", activation=\"relu\"))\n",
    "model2.add(keras.layers.MaxPool2D(pool_size=(2, 2), strides=(2, 2)))\n",
    "model2.add(keras.layers.Conv2D(16, (5,5), activation=\"relu\"))\n",
    "model2.add(keras.layers.MaxPool2D(pool_size=(2, 2), strides=(2, 2)))\n",
    "model2.add(keras.layers.Conv2D(120, (5,5), activation=\"relu\"))\n",
    "model2.add(keras.layers.Flatten())\n",
    "model2.add(keras.layers.Dense(84, activation=\"relu\"))\n",
    "model2.add(keras.layers.Dense(10, activation=\"softmax\"))\n",
    "\n",
    "model2.compile(optimizer=\"Adam\", loss=keras.losses.CategoricalCrossentropy(), metrics=['accuracy'])\n",
    "\n",
    "history2 = model2.fit(X_train, Y_train, epochs=6, validation_data=(X_test, Y_test))"
   ]
  },
  {
   "cell_type": "code",
   "execution_count": 8,
   "metadata": {},
   "outputs": [
    {
     "name": "stdout",
     "output_type": "stream",
     "text": [
      "83/83 [==============================] - 0s 5ms/step - loss: 0.0460 - accuracy: 0.9864\n",
      "test loss, test acc: [0.045997075736522675, 0.9864304661750793]\n"
     ]
    },
    {
     "data": {
      "image/png": "[encoded data removed]",
      "text/plain": [
       "<Figure size 432x288 with 2 Axes>"
      ]
     },
     "metadata": {
      "needs_background": "light"
     },
     "output_type": "display_data"
    }
   ],
   "source": [
    "results2 = model2.evaluate(X_test, Y_test)\n",
    "print('test loss, test acc:', results2)\n",
    "\n",
    "fig, (plt1, plt2) = plt.subplots(2,1)\n",
    "\n",
    "plt1.plot(history2.history[\"loss\"])\n",
    "plt1.plot(history2.history[\"val_loss\"])\n",
    "\n",
    "plt2.plot(history2.history[\"accuracy\"])\n",
    "plt2.plot(history2.history[\"val_accuracy\"])\n",
    "plt.show()"
   ]
  },
  {
   "cell_type": "markdown",
   "metadata": {},
   "source": [
    "By using `relu` instead of `tanh` and `MaxPool` instead of `AvgPool` the accuracy goes up to `98.64%` from `98.27%` and the loss goes down to `0.046` from `0.0614`\n",
    "\n",
    "This is not a big change."
   ]
  }
 ],
 "metadata": {
  "kernelspec": {
   "display_name": "Python 3",
   "language": "python",
   "name": "python3"
  },
  "language_info": {
   "codemirror_mode": {
    "name": "ipython",
    "version": 3
   },
   "file_extension": ".py",
   "mimetype": "text/x-python",
   "name": "python",
   "nbconvert_exporter": "python",
   "pygments_lexer": "ipython3",
   "version": "3.8.1"
  }
 },
 "nbformat": 4,
 "nbformat_minor": 2
}
