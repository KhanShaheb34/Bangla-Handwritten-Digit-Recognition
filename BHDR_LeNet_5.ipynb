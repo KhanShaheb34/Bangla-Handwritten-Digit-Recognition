{
 "cells": [
  {
   "cell_type": "markdown",
   "metadata": {},
   "source": [
    "# Implementation of LeNet-5 for Bangla Handwritten Digit Recognition\n",
    "\n",
    "*The Paper: [[LeCun et al., 1998. Gradient-Based Learning Applied to Document Recognition]](http://yann.lecun.com/exdb/publis/pdf/lecun-01a.pdf)*"
   ]
  },
  {
   "cell_type": "code",
   "execution_count": 1,
   "metadata": {},
   "outputs": [],
   "source": [
    "import numpy as np\n",
    "import pandas as pd\n",
    "import matplotlib.pyplot as plt\n",
    "import tensorflow as tf\n",
    "from tensorflow import keras\n",
    "from sklearn.preprocessing import OneHotEncoder\n",
    "\n",
    "%matplotlib inline"
   ]
  },
  {
   "cell_type": "code",
   "execution_count": 2,
   "metadata": {},
   "outputs": [],
   "source": [
    "# Loading the dataset\n",
    "X_train_orig = pd.read_json('./dataset/train_images.json', ' ').to_numpy()\n",
    "Y_train_orig = pd.read_json('./dataset/train_labels.json', ' ').to_numpy()\n",
    "X_test_orig = pd.read_json('./dataset/test_images.json', ' ').to_numpy()\n",
    "Y_test_orig = pd.read_json('./dataset/test_labels.json', ' ').to_numpy()"
   ]
  },
  {
   "cell_type": "code",
   "execution_count": 3,
   "metadata": {},
   "outputs": [
    {
     "name": "stdout",
     "output_type": "stream",
     "text": [
      "[5]\n"
     ]
    },
    {
     "data": {
      "image/png": "[encoded data removed]",
      "text/plain": [
       "<Figure size 432x288 with 1 Axes>"
      ]
     },
     "metadata": {
      "needs_background": "light"
     },
     "output_type": "display_data"
    }
   ],
   "source": [
    "# Checking up some data\n",
    "index = 183\n",
    "temp_x_data = X_train_orig[index].reshape(28, 28)\n",
    "temp_y_data = Y_train_orig[index]\n",
    "\n",
    "plt.imshow(temp_x_data, cmap='gray')\n",
    "print(temp_y_data)"
   ]
  },
  {
   "cell_type": "code",
   "execution_count": 4,
   "metadata": {},
   "outputs": [
    {
     "name": "stdout",
     "output_type": "stream",
     "text": [
      "(23824, 28, 28, 1)\n",
      "(23824, 10)\n",
      "(2653, 28, 28, 1)\n",
      "(2653, 10)\n"
     ]
    }
   ],
   "source": [
    "# Setting up the label\n",
    "Y_train = tf.one_hot(Y_train_orig, 10, axis=1)[:,:,0]\n",
    "Y_test = tf.one_hot(Y_test_orig, 10, axis=1)[:,:,0]\n",
    "\n",
    "# Normalizing the dataset\n",
    "X_test = X_test_orig.reshape(X_test_orig.shape[0], 28, 28, 1) / 255\n",
    "X_train = X_train_orig.reshape(X_train_orig.shape[0], 28, 28, 1) / 255\n",
    "\n",
    "# Checking the shape of the dataset\n",
    "print(X_train.shape)\n",
    "print(Y_train.shape)\n",
    "print(X_test.shape)\n",
    "print(Y_test.shape)"
   ]
  },
  {
   "cell_type": "markdown",
   "metadata": {},
   "source": [
    "## Model Architecture\n",
    "\n",
    "|     Layers    | Feature Map |  Size | Kernel Size | Stride | Padding | Activation |\n",
    "|:-------------:|:-----------:|:-----:|:-----------:|:------:|:-------:|:----------:|\n",
    "| Input - Image |      1      | 28x28 |      -      |    -   |    -    |      -     |\n",
    "|    Conv2D-1   |      6      | 28x28 |     5x5     |    1   |   SAME  |    tanh    |\n",
    "|  AvgPool2D-2  |      6      | 14x14 |     2x2     |    2   |    -    |      -     |\n",
    "|    Conv2D-3   |      16     | 10x10 |     5x5     |    1   |    -    |    tanh    |\n",
    "|  AvgPool2D-4  |      16     |  5x5  |     2x2     |    2   |    -    |      -     |\n",
    "|    Conv2D-5   |     120     |  1x1  |     5x5     |    1   |    -    |    tanh    |\n",
    "|      FC-6     |      -      |   84  |      -      |    -   |    -    |    tanh    |\n",
    "|      FC-7     |      -      |   10  |      -      |    -   |    -    |   softmax  |\n",
    "\n",
    "> AS the model works on 32x32x1 size images, I had to use SAME padding to make my 28x28 images work."
   ]
  },
  {
   "cell_type": "code",
   "execution_count": 5,
   "metadata": {},
   "outputs": [],
   "source": [
    "# Some hyperparameters\n",
    "batch_size = 64\n",
    "epochs = 10"
   ]
  },
  {
   "cell_type": "code",
   "execution_count": 6,
   "metadata": {},
   "outputs": [
    {
     "name": "stdout",
     "output_type": "stream",
     "text": [
      "Epoch 1/10\n",
      "373/373 [==============================] - 7s 19ms/step - loss: 0.3164 - accuracy: 0.9057 - val_loss: 0.1454 - val_accuracy: 0.9548\n",
      "Epoch 2/10\n",
      "373/373 [==============================] - 7s 19ms/step - loss: 0.1003 - accuracy: 0.9699 - val_loss: 0.0864 - val_accuracy: 0.9744\n",
      "Epoch 3/10\n",
      "373/373 [==============================] - 7s 19ms/step - loss: 0.0636 - accuracy: 0.9803 - val_loss: 0.0772 - val_accuracy: 0.9766\n",
      "Epoch 4/10\n",
      "373/373 [==============================] - 7s 18ms/step - loss: 0.0467 - accuracy: 0.9863 - val_loss: 0.0605 - val_accuracy: 0.9834\n",
      "Epoch 5/10\n",
      "373/373 [==============================] - 7s 19ms/step - loss: 0.0377 - accuracy: 0.9887 - val_loss: 0.0558 - val_accuracy: 0.9823\n",
      "Epoch 6/10\n",
      "373/373 [==============================] - 7s 18ms/step - loss: 0.0275 - accuracy: 0.9922 - val_loss: 0.0584 - val_accuracy: 0.9819\n",
      "Epoch 7/10\n",
      "373/373 [==============================] - 7s 19ms/step - loss: 0.0227 - accuracy: 0.9936 - val_loss: 0.0593 - val_accuracy: 0.9793\n",
      "Epoch 8/10\n",
      "373/373 [==============================] - 7s 19ms/step - loss: 0.0200 - accuracy: 0.9943 - val_loss: 0.0491 - val_accuracy: 0.9842\n",
      "Epoch 9/10\n",
      "373/373 [==============================] - 7s 19ms/step - loss: 0.0151 - accuracy: 0.9956 - val_loss: 0.0548 - val_accuracy: 0.9823\n",
      "Epoch 10/10\n",
      "373/373 [==============================] - 7s 18ms/step - loss: 0.0116 - accuracy: 0.9966 - val_loss: 0.0533 - val_accuracy: 0.9830\n"
     ]
    }
   ],
   "source": [
    "model = keras.Sequential()\n",
    "\n",
    "model.add(tf.keras.Input(shape=(28,28,1), name='digits'))\n",
    "model.add(keras.layers.Conv2D(6, (5,5), padding=\"same\", activation=\"tanh\"))\n",
    "model.add(keras.layers.AvgPool2D(pool_size=(2, 2), strides=(2, 2)))\n",
    "model.add(keras.layers.Conv2D(16, (5,5), activation=\"tanh\"))\n",
    "model.add(keras.layers.AvgPool2D(pool_size=(2, 2), strides=(2, 2)))\n",
    "model.add(keras.layers.Conv2D(120, (5,5), activation=\"tanh\"))\n",
    "model.add(keras.layers.Flatten())\n",
    "model.add(keras.layers.Dense(84, activation=\"tanh\"))\n",
    "model.add(keras.layers.Dense(10, activation=\"softmax\"))\n",
    "\n",
    "model.compile(optimizer=\"Adam\", loss=keras.losses.CategoricalCrossentropy(), metrics=['accuracy'])\n",
    "\n",
    "history = model.fit(X_train, Y_train, epochs=epochs, validation_data=(X_test, Y_test), batch_size=batch_size, validation_batch_size=batch_size)"
   ]
  },
  {
   "cell_type": "code",
   "execution_count": 7,
   "metadata": {},
   "outputs": [
    {
     "name": "stdout",
     "output_type": "stream",
     "text": [
      "83/83 [==============================] - 0s 5ms/step - loss: 0.0533 - accuracy: 0.9830\n",
      "test loss, test acc: [0.0533314011991024, 0.983038067817688]\n"
     ]
    },
    {
     "data": {
      "image/png": "[encoded data removed]",
      "text/plain": [
       "<Figure size 432x288 with 2 Axes>"
      ]
     },
     "metadata": {
      "needs_background": "light"
     },
     "output_type": "display_data"
    }
   ],
   "source": [
    "results = model.evaluate(X_test, Y_test)\n",
    "print('test loss, test acc:', results)\n",
    "\n",
    "fig, (plt1, plt2) = plt.subplots(2,1)\n",
    "\n",
    "plt1.plot(history.history[\"loss\"])\n",
    "plt1.plot(history.history[\"val_loss\"])\n",
    "\n",
    "plt2.plot(history.history[\"accuracy\"])\n",
    "plt2.plot(history.history[\"val_accuracy\"])\n",
    "plt.show()"
   ]
  },
  {
   "cell_type": "markdown",
   "metadata": {},
   "source": [
    "The implementation of LeNet-5 for Bangla Handwritten Digit Recognition finishes here.\n",
    "\n",
    "As this is a very old paper, some of the new technologies came recently to that may increase the accuracy. I'm going to try them here."
   ]
  },
  {
   "cell_type": "code",
   "execution_count": 8,
   "metadata": {},
   "outputs": [
    {
     "name": "stdout",
     "output_type": "stream",
     "text": [
      "Epoch 1/10\n",
      "373/373 [==============================] - 7s 20ms/step - loss: 0.3394 - accuracy: 0.8958 - val_loss: 0.1395 - val_accuracy: 0.9593\n",
      "Epoch 2/10\n",
      "373/373 [==============================] - 7s 20ms/step - loss: 0.0900 - accuracy: 0.9733 - val_loss: 0.1004 - val_accuracy: 0.9691\n",
      "Epoch 3/10\n",
      "373/373 [==============================] - 7s 20ms/step - loss: 0.0622 - accuracy: 0.9811 - val_loss: 0.0754 - val_accuracy: 0.9808\n",
      "Epoch 4/10\n",
      "373/373 [==============================] - 7s 19ms/step - loss: 0.0433 - accuracy: 0.9869 - val_loss: 0.0728 - val_accuracy: 0.9796\n",
      "Epoch 5/10\n",
      "373/373 [==============================] - 7s 18ms/step - loss: 0.0372 - accuracy: 0.9884 - val_loss: 0.0622 - val_accuracy: 0.9804\n",
      "Epoch 6/10\n",
      "373/373 [==============================] - 6s 17ms/step - loss: 0.0317 - accuracy: 0.9896 - val_loss: 0.0607 - val_accuracy: 0.9819\n",
      "Epoch 7/10\n",
      "373/373 [==============================] - 7s 19ms/step - loss: 0.0246 - accuracy: 0.9919 - val_loss: 0.0472 - val_accuracy: 0.9879\n",
      "Epoch 8/10\n",
      "373/373 [==============================] - 7s 19ms/step - loss: 0.0183 - accuracy: 0.9940 - val_loss: 0.0552 - val_accuracy: 0.9876\n",
      "Epoch 9/10\n",
      "373/373 [==============================] - 7s 19ms/step - loss: 0.0179 - accuracy: 0.9938 - val_loss: 0.0429 - val_accuracy: 0.9898\n",
      "Epoch 10/10\n",
      "373/373 [==============================] - 7s 19ms/step - loss: 0.0148 - accuracy: 0.9954 - val_loss: 0.0389 - val_accuracy: 0.9913\n"
     ]
    }
   ],
   "source": [
    "model2 = keras.Sequential()\n",
    "\n",
    "model2.add(tf.keras.Input(shape=(28,28,1), name='digits'))\n",
    "model2.add(keras.layers.Conv2D(6, (5,5), padding=\"same\", activation=\"relu\"))\n",
    "model2.add(keras.layers.MaxPool2D(pool_size=(2, 2), strides=(2, 2)))\n",
    "model2.add(keras.layers.Conv2D(16, (5,5), activation=\"relu\"))\n",
    "model2.add(keras.layers.MaxPool2D(pool_size=(2, 2), strides=(2, 2)))\n",
    "model2.add(keras.layers.Conv2D(120, (5,5), activation=\"relu\"))\n",
    "model2.add(keras.layers.Flatten())\n",
    "model2.add(keras.layers.Dense(84, activation=\"relu\"))\n",
    "model2.add(keras.layers.Dense(10, activation=\"softmax\"))\n",
    "\n",
    "model2.compile(optimizer=\"Adam\", loss=keras.losses.CategoricalCrossentropy(), metrics=['accuracy'])\n",
    "\n",
    "history2 = model2.fit(X_train, Y_train, epochs=epochs, validation_data=(X_test, Y_test), batch_size=batch_size, validation_batch_size=batch_size)"
   ]
  },
  {
   "cell_type": "code",
   "execution_count": 9,
   "metadata": {},
   "outputs": [
    {
     "name": "stdout",
     "output_type": "stream",
     "text": [
      "83/83 [==============================] - 0s 5ms/step - loss: 0.0389 - accuracy: 0.9913\n",
      "test loss, test acc: [0.03893745690584183, 0.9913305640220642]\n"
     ]
    },
    {
     "data": {
      "image/png": "[encoded data removed]",
      "text/plain": [
       "<Figure size 432x288 with 2 Axes>"
      ]
     },
     "metadata": {
      "needs_background": "light"
     },
     "output_type": "display_data"
    }
   ],
   "source": [
    "results2 = model2.evaluate(X_test, Y_test)\n",
    "print('test loss, test acc:', results2)\n",
    "\n",
    "fig, (plt1, plt2) = plt.subplots(2,1)\n",
    "\n",
    "plt1.plot(history2.history[\"loss\"])\n",
    "plt1.plot(history2.history[\"val_loss\"])\n",
    "\n",
    "plt2.plot(history2.history[\"accuracy\"])\n",
    "plt2.plot(history2.history[\"val_accuracy\"])\n",
    "plt.show()"
   ]
  },
  {
   "cell_type": "markdown",
   "metadata": {},
   "source": [
    "By using `relu` instead of `tanh` and `MaxPool` instead of `AvgPool` the accuracy goes up to `99.13%` from `98.30%` and the loss goes down to `0.0389` from `0.0533`\n",
    "\n",
    "This is not a big change."
   ]
  }
 ],
 "metadata": {
  "kernelspec": {
   "display_name": "Python 3",
   "language": "python",
   "name": "python3"
  },
  "language_info": {
   "codemirror_mode": {
    "name": "ipython",
    "version": 3
   },
   "file_extension": ".py",
   "mimetype": "text/x-python",
   "name": "python",
   "nbconvert_exporter": "python",
   "pygments_lexer": "ipython3",
   "version": "3.8.1"
  }
 },
 "nbformat": 4,
 "nbformat_minor": 2
}
