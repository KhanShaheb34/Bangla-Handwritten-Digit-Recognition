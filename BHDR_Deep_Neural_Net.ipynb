{
 "cells": [
  {
   "cell_type": "markdown",
   "metadata": {},
   "source": [
    "# Bangla Handwritten Digits Recognition\n",
    "Using With Shallow Nural Network\n",
    "\n",
    "*Dataset Source: [Bengali.ai](https://bengali.ai/)*"
   ]
  },
  {
   "cell_type": "code",
   "execution_count": 1,
   "metadata": {},
   "outputs": [],
   "source": [
    "import numpy as np\n",
    "import pandas as pd\n",
    "import matplotlib.pyplot as plt\n",
    "from sklearn.preprocessing import OneHotEncoder\n",
    "\n",
    "%matplotlib inline"
   ]
  },
  {
   "cell_type": "code",
   "execution_count": 2,
   "metadata": {},
   "outputs": [
    {
     "name": "stdout",
     "output_type": "stream",
     "text": [
      "(784, 23824)\n",
      "(10, 23824)\n",
      "(784, 2653)\n",
      "(10, 2653)\n"
     ]
    }
   ],
   "source": [
    "# Loading the dataset\n",
    "X_train = pd.read_json('./dataset/train_images.json', ' ').to_numpy().T\n",
    "Y_train = pd.read_json('./dataset/train_labels.json', ' ').to_numpy()\n",
    "X_test = pd.read_json('./dataset/test_images.json', ' ').to_numpy().T\n",
    "Y_test = pd.read_json('./dataset/test_labels.json', ' ').to_numpy()\n",
    "\n",
    "# Setting up the label\n",
    "ohe_y = OneHotEncoder()\n",
    "Y_train = ohe_y.fit_transform(Y_train).toarray().T\n",
    "Y_test = ohe_y.fit_transform(Y_test).toarray().T\n",
    "\n",
    "# Checking the shape of the dataset\n",
    "print(X_train.shape)\n",
    "print(Y_train.shape)\n",
    "print(X_test.shape)\n",
    "print(Y_test.shape)\n",
    "\n",
    "# Normalizing the dataset\n",
    "X_test = X_test / 255\n",
    "X_train = X_train / 255"
   ]
  },
  {
   "cell_type": "code",
   "execution_count": 3,
   "metadata": {},
   "outputs": [
    {
     "name": "stdout",
     "output_type": "stream",
     "text": [
      "[0. 0. 0. 0. 0. 0. 0. 1. 0. 0.]\n"
     ]
    },
    {
     "data": {
      "image/png": "[encoded data removed]",
      "text/plain": [
       "<Figure size 432x288 with 1 Axes>"
      ]
     },
     "metadata": {
      "needs_background": "light"
     },
     "output_type": "display_data"
    }
   ],
   "source": [
    "# Checking up some data\n",
    "index = 123\n",
    "temp_x_data = X_train.T[index].reshape(28, 28)\n",
    "temp_y_data = Y_train.T[index]\n",
    "\n",
    "plt.imshow(temp_x_data, cmap='gray')\n",
    "print(temp_y_data)"
   ]
  },
  {
   "cell_type": "code",
   "execution_count": 4,
   "metadata": {},
   "outputs": [
    {
     "name": "stdout",
     "output_type": "stream",
     "text": [
      "Number of training data: 23824\n",
      "Number of testing data: 2653\n",
      "Number of input params: 784\n",
      "Number of output params: 10\n"
     ]
    }
   ],
   "source": [
    "# Getting shapes and sizes\n",
    "m_train = Y_train.shape[1]\n",
    "m_test = Y_test.shape[1]\n",
    "\n",
    "# Size of input and output\n",
    "n_x = X_test.shape[0]\n",
    "n_y = Y_test.shape[0]\n",
    "\n",
    "print('Number of training data: ' + str(m_train))\n",
    "print('Number of testing data: ' + str(m_test))\n",
    "\n",
    "print('Number of input params: ' + str(n_x))\n",
    "print('Number of output params: ' + str(n_y))"
   ]
  },
  {
   "cell_type": "code",
   "execution_count": 5,
   "metadata": {},
   "outputs": [],
   "source": [
    "from NeuralNet import NeuralNetwork"
   ]
  },
  {
   "cell_type": "markdown",
   "metadata": {},
   "source": [
    "# It's time for my deep neural net class"
   ]
  },
  {
   "cell_type": "code",
   "execution_count": 6,
   "metadata": {},
   "outputs": [
    {
     "name": "stdout",
     "output_type": "stream",
     "text": [
      "Cost after iteration 0: 6.932421\n",
      "Cost after iteration 200: 0.808167\n",
      "Cost after iteration 400: 0.530646\n",
      "Cost after iteration 600: 0.436768\n",
      "Cost after iteration 800: 0.380756\n",
      "Cost after iteration 1000: 0.341727\n",
      "Cost after iteration 1200: 0.311797\n",
      "Cost after iteration 1400: 0.286966\n",
      "Cost after iteration 1600: 0.265450\n",
      "Cost after iteration 1800: 0.246383\n",
      "Cost after iteration 2000: 0.229308\n",
      "Cost after iteration 2200: 0.213865\n",
      "Cost after iteration 2400: 0.199915\n",
      "Cost after iteration 2600: 0.187334\n",
      "Cost after iteration 2800: 0.175983\n",
      "Cost after iteration 3000: 0.165717\n",
      "Cost after iteration 3200: 0.156396\n",
      "Cost after iteration 3400: 0.147911\n",
      "Cost after iteration 3600: 0.140096\n",
      "Cost after iteration 3800: 0.132872\n",
      "Cost after iteration 4000: 0.126153\n",
      "Cost after iteration 4200: 0.119904\n",
      "Cost after iteration 4400: 0.114067\n",
      "Cost after iteration 4600: 0.108597\n",
      "Cost after iteration 4800: 0.103462\n"
     ]
    },
    {
     "data": {
      "image/png": "[encoded data removed]",
      "text/plain": [
       "<Figure size 432x288 with 1 Axes>"
      ]
     },
     "metadata": {
      "needs_background": "light"
     },
     "output_type": "display_data"
    }
   ],
   "source": [
    "classifier = NeuralNetwork([n_x, 100, n_y])\n",
    "classifier.fit(X_train, Y_train, 0.1, 5000, 200, True)"
   ]
  },
  {
   "cell_type": "code",
   "execution_count": 7,
   "metadata": {},
   "outputs": [
    {
     "name": "stdout",
     "output_type": "stream",
     "text": [
      "Cost after iteration 0: 6.930937\n",
      "Cost after iteration 200: 3.214536\n",
      "Cost after iteration 400: 1.332189\n",
      "Cost after iteration 600: 0.593635\n",
      "Cost after iteration 800: 0.424259\n",
      "Cost after iteration 1000: 0.346967\n",
      "Cost after iteration 1200: 0.295473\n",
      "Cost after iteration 1400: 0.255373\n",
      "Cost after iteration 1600: 0.222114\n",
      "Cost after iteration 1800: 0.194259\n",
      "Cost after iteration 2000: 0.170597\n",
      "Cost after iteration 2200: 0.150142\n",
      "Cost after iteration 2400: 0.132275\n",
      "Cost after iteration 2600: 0.116683\n",
      "Cost after iteration 2800: 0.102991\n",
      "Cost after iteration 3000: 0.090990\n",
      "Cost after iteration 3200: 0.080413\n",
      "Cost after iteration 3400: 0.071060\n",
      "Cost after iteration 3600: 0.062819\n",
      "Cost after iteration 3800: 0.055613\n",
      "Cost after iteration 4000: 0.049339\n",
      "Cost after iteration 4200: 0.043884\n",
      "Cost after iteration 4400: 0.039146\n",
      "Cost after iteration 4600: 0.035039\n",
      "Cost after iteration 4800: 0.031477\n"
     ]
    },
    {
     "data": {
      "image/png": "[encoded data removed]",
      "text/plain": [
       "<Figure size 432x288 with 1 Axes>"
      ]
     },
     "metadata": {
      "needs_background": "light"
     },
     "output_type": "display_data"
    }
   ],
   "source": [
    "classifier2 = NeuralNetwork([n_x, 100, 100, n_y])\n",
    "classifier2.fit(X_train, Y_train, 0.1, 5000, 200, True)"
   ]
  },
  {
   "cell_type": "code",
   "execution_count": 9,
   "metadata": {},
   "outputs": [
    {
     "name": "stdout",
     "output_type": "stream",
     "text": [
      "Cost after iteration 0: 6.931419\n",
      "Cost after iteration 200: 3.249633\n",
      "Cost after iteration 400: 3.249452\n",
      "Cost after iteration 600: 3.248906\n",
      "Cost after iteration 800: 3.244732\n",
      "Cost after iteration 1000: 2.800590\n",
      "Cost after iteration 1200: 2.507508\n",
      "Cost after iteration 1400: 2.116896\n",
      "Cost after iteration 1600: 1.546172\n",
      "Cost after iteration 1800: 0.865976\n",
      "Cost after iteration 2000: 0.404524\n",
      "Cost after iteration 2200: 0.251351\n",
      "Cost after iteration 2400: 0.178952\n",
      "Cost after iteration 2600: 0.183270\n",
      "Cost after iteration 2800: 0.103154\n",
      "Cost after iteration 3000: 0.078993\n",
      "Cost after iteration 3200: 0.061372\n",
      "Cost after iteration 3400: 0.047465\n",
      "Cost after iteration 3600: 0.037386\n",
      "Cost after iteration 3800: 0.030078\n",
      "Cost after iteration 4000: 0.024582\n",
      "Cost after iteration 4200: 0.020371\n",
      "Cost after iteration 4400: 0.017277\n",
      "Cost after iteration 4600: 0.014776\n",
      "Cost after iteration 4800: 0.012600\n"
     ]
    },
    {
     "data": {
      "image/png": "[encoded data removed]",
      "text/plain": [
       "<Figure size 432x288 with 1 Axes>"
      ]
     },
     "metadata": {
      "needs_background": "light"
     },
     "output_type": "display_data"
    }
   ],
   "source": [
    "classifier3 = NeuralNetwork([n_x, 100, 100, 100, n_y])\n",
    "classifier3.fit(X_train, Y_train, 0.1, 5000, 200, True)"
   ]
  },
  {
   "cell_type": "code",
   "execution_count": 10,
   "metadata": {},
   "outputs": [
    {
     "name": "stdout",
     "output_type": "stream",
     "text": [
      "(10, 2653)\n",
      "Predicted:\n",
      "[0. 1. 0. 0. 0. 0. 0. 0. 0. 0.]\n",
      "Actual Value:\n",
      "[0. 1. 0. 0. 0. 0. 0. 0. 0. 0.]\n"
     ]
    },
    {
     "data": {
      "text/plain": [
       "<matplotlib.image.AxesImage at 0x7f8aa8bece80>"
      ]
     },
     "execution_count": 10,
     "metadata": {},
     "output_type": "execute_result"
    },
    {
     "data": {
      "image/png": "[encoded data removed]",
      "text/plain": [
       "<Figure size 432x288 with 1 Axes>"
      ]
     },
     "metadata": {
      "needs_background": "light"
     },
     "output_type": "display_data"
    }
   ],
   "source": [
    "P_test = classifier.predict(X_test)\n",
    "P_test = (P_test == np.max(P_test, axis=0)) + np.zeros((10,1))\n",
    "print(P_test.shape)\n",
    "index = 31\n",
    "print(\"Predicted:\")\n",
    "print(P_test.T[index])\n",
    "print(\"Actual Value:\")\n",
    "print(Y_test.T[index])\n",
    "plt.imshow(X_test.T[index].reshape(28,28), cmap='gray')"
   ]
  },
  {
   "cell_type": "code",
   "execution_count": 11,
   "metadata": {},
   "outputs": [],
   "source": [
    "def score(X, Y, classifier):\n",
    "    P = classifier.predict(X)\n",
    "    P = (P == np.max(P, axis=0)) + np.zeros((10,1))\n",
    "    accuracy = np.equal(Y.T, P.T) + 0\n",
    "    score = np.sum(accuracy) / (accuracy.shape[0]*accuracy.shape[1]) * 100\n",
    "    \n",
    "    return score"
   ]
  },
  {
   "cell_type": "code",
   "execution_count": 17,
   "metadata": {},
   "outputs": [
    {
     "name": "stdout",
     "output_type": "stream",
     "text": [
      "Classifier 1 with n_x, 100, n_y layers\n",
      "Score on test data: 99.36675461741424%\n",
      "Score on train data: 99.82874412357286%\n",
      "\n",
      "Classifier 2 with n_x, 100, 100, n_y layers\n",
      "Score on test data: 99.36675461741424%\n",
      "Score on train data: 99.97649429147079%\n",
      "\n",
      "Classifier 3 with n_x, 100, 100, 100, n_y layers\n",
      "Score on test data: 99.2687523558236%\n",
      "Score on train data: 99.99076561450639%\n"
     ]
    }
   ],
   "source": [
    "print(\"Classifier 1 with n_x, 100, n_y layers\")\n",
    "score_test = score(X_test, Y_test, classifier)\n",
    "score_train = score(X_train, Y_train, classifier)\n",
    "print(\"Score on test data: \" + str(score_test) + \"%\")\n",
    "print(\"Score on train data: \" + str(score_train) + \"%\")\n",
    "\n",
    "print(\"\\nClassifier 2 with n_x, 100, 100, n_y layers\")\n",
    "score_test2 = score(X_test, Y_test, classifier2)\n",
    "score_train2 = score(X_train, Y_train, classifier2)\n",
    "print(\"Score on test data: \" + str(score_test2) + \"%\")\n",
    "print(\"Score on train data: \" + str(score_train2) + \"%\")\n",
    "\n",
    "print(\"\\nClassifier 3 with n_x, 100, 100, 100, n_y layers\")\n",
    "score_test3 = score(X_test, Y_test, classifier3)\n",
    "score_train3 = score(X_train, Y_train, classifier3)\n",
    "print(\"Score on test data: \" + str(score_test3) + \"%\")\n",
    "print(\"Score on train data: \" + str(score_train3) + \"%\")"
   ]
  },
  {
   "cell_type": "code",
   "execution_count": 18,
   "metadata": {},
   "outputs": [
    {
     "data": {
      "image/png": "[encoded data removed]",
      "text/plain": [
       "<Figure size 432x288 with 1 Axes>"
      ]
     },
     "metadata": {
      "needs_background": "light"
     },
     "output_type": "display_data"
    }
   ],
   "source": [
    "plt.plot(np.squeeze(classifier.costs), label=\"3 Layer\")\n",
    "plt.plot(np.squeeze(classifier2.costs), label=\"4 Layer\")\n",
    "plt.plot(np.squeeze(classifier3.costs), label=\"5 Layer\")\n",
    "plt.ylabel('cost')\n",
    "plt.xlabel('iterations (per hundreds)')\n",
    "plt.legend()\n",
    "plt.show()"
   ]
  }
 ],
 "metadata": {
  "kernelspec": {
   "display_name": "Python 3",
   "language": "python",
   "name": "python3"
  },
  "language_info": {
   "codemirror_mode": {
    "name": "ipython",
    "version": 3
   },
   "file_extension": ".py",
   "mimetype": "text/x-python",
   "name": "python",
   "nbconvert_exporter": "python",
   "pygments_lexer": "ipython3",
   "version": "3.8.1"
  }
 },
 "nbformat": 4,
 "nbformat_minor": 2
}
