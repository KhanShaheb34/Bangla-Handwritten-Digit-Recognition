{
 "cells": [
  {
   "cell_type": "markdown",
   "metadata": {},
   "source": [
    "# Bangla Handwritten Digits Recognition\n",
    "Using With Shallow Nural Network\n",
    "\n",
    "*Dataset Source: [Bengali.ai](https://bengali.ai/)*"
   ]
  },
  {
   "cell_type": "code",
   "execution_count": 1,
   "metadata": {},
   "outputs": [],
   "source": [
    "import numpy as np\n",
    "import pandas as pd\n",
    "import matplotlib.pyplot as plt\n",
    "from sklearn.preprocessing import OneHotEncoder\n",
    "\n",
    "%matplotlib inline"
   ]
  },
  {
   "cell_type": "code",
   "execution_count": 2,
   "metadata": {},
   "outputs": [
    {
     "name": "stdout",
     "output_type": "stream",
     "text": [
      "(784, 23824)\n",
      "(10, 23824)\n",
      "(784, 2653)\n",
      "(10, 2653)\n"
     ]
    }
   ],
   "source": [
    "# Loading the dataset\n",
    "X_train = pd.read_json('./dataset/train_images.json', ' ').to_numpy().T\n",
    "Y_train = pd.read_json('./dataset/train_labels.json', ' ').to_numpy()\n",
    "X_test = pd.read_json('./dataset/test_images.json', ' ').to_numpy().T\n",
    "Y_test = pd.read_json('./dataset/test_labels.json', ' ').to_numpy()\n",
    "\n",
    "# Setting up the label\n",
    "ohe_y = OneHotEncoder()\n",
    "Y_train = ohe_y.fit_transform(Y_train).toarray().T\n",
    "Y_test = ohe_y.fit_transform(Y_test).toarray().T\n",
    "\n",
    "# Checking the shape of the dataset\n",
    "print(X_train.shape)\n",
    "print(Y_train.shape)\n",
    "print(X_test.shape)\n",
    "print(Y_test.shape)\n",
    "\n",
    "# Normalizing the dataset\n",
    "X_test = X_test / 255\n",
    "X_train = X_train / 255"
   ]
  },
  {
   "cell_type": "code",
   "execution_count": 3,
   "metadata": {},
   "outputs": [
    {
     "name": "stdout",
     "output_type": "stream",
     "text": [
      "[0. 0. 0. 0. 0. 0. 0. 1. 0. 0.]\n"
     ]
    },
    {
     "data": {
      "image/png": "[encoded data removed]",
      "text/plain": [
       "<Figure size 432x288 with 1 Axes>"
      ]
     },
     "metadata": {
      "needs_background": "light"
     },
     "output_type": "display_data"
    }
   ],
   "source": [
    "# Checking up some data\n",
    "index = 123\n",
    "temp_x_data = X_train.T[index].reshape(28, 28)\n",
    "temp_y_data = Y_train.T[index]\n",
    "\n",
    "plt.imshow(temp_x_data, cmap='gray')\n",
    "print(temp_y_data)"
   ]
  },
  {
   "cell_type": "code",
   "execution_count": 4,
   "metadata": {},
   "outputs": [
    {
     "name": "stdout",
     "output_type": "stream",
     "text": [
      "Number of training data: 23824\n",
      "Number of testing data: 2653\n",
      "Number of input params: 784\n",
      "Number of output params: 10\n"
     ]
    }
   ],
   "source": [
    "# Getting shapes and sizes\n",
    "m_train = Y_train.shape[1]\n",
    "m_test = Y_test.shape[1]\n",
    "\n",
    "# Size of input and output\n",
    "n_x = X_test.shape[0]\n",
    "n_y = Y_test.shape[0]\n",
    "\n",
    "print('Number of training data: ' + str(m_train))\n",
    "print('Number of testing data: ' + str(m_test))\n",
    "\n",
    "print('Number of input params: ' + str(n_x))\n",
    "print('Number of output params: ' + str(n_y))"
   ]
  },
  {
   "cell_type": "markdown",
   "metadata": {},
   "source": [
    "# It's time for my deep neural net class"
   ]
  },
  {
   "cell_type": "code",
   "execution_count": 6,
   "metadata": {},
   "outputs": [
    {
     "name": "stdout",
     "output_type": "stream",
     "text": [
      "Cost after iteration 0: 6.931482\n",
      "Cost after iteration 200: 3.249912\n",
      "Cost after iteration 400: 3.249774\n",
      "Cost after iteration 600: 3.249773\n",
      "Cost after iteration 800: 3.249773\n",
      "Cost after iteration 1000: 3.249773\n",
      "Cost after iteration 1200: 3.249773\n",
      "Cost after iteration 1400: 3.249772\n",
      "Cost after iteration 1600: 3.249772\n",
      "Cost after iteration 1800: 3.249772\n",
      "Cost after iteration 2000: 3.249771\n",
      "Cost after iteration 2200: 3.249771\n",
      "Cost after iteration 2400: 3.249770\n",
      "Cost after iteration 2600: 3.249770\n",
      "Cost after iteration 2800: 3.249769\n",
      "Cost after iteration 3000: 3.249768\n",
      "Cost after iteration 3200: 3.249768\n",
      "Cost after iteration 3400: 3.249767\n",
      "Cost after iteration 3600: 3.249766\n",
      "Cost after iteration 3800: 3.249765\n",
      "Cost after iteration 4000: 3.249763\n",
      "Cost after iteration 4200: 3.249762\n",
      "Cost after iteration 4400: 3.249759\n",
      "Cost after iteration 4600: 3.249757\n",
      "Cost after iteration 4800: 3.249754\n"
     ]
    },
    {
     "data": {
      "image/png": "[encoded data removed]",
      "text/plain": [
       "<Figure size 432x288 with 1 Axes>"
      ]
     },
     "metadata": {
      "needs_background": "light"
     },
     "output_type": "display_data"
    }
   ],
   "source": [
    "from NeuralNet import NeuralNetwork\n",
    "classifier = NeuralNetwork([n_x, 64, 32, 16, n_y])\n",
    "classifier.fit(X_train, Y_train, 0.1, 5000, 200, True)"
   ]
  },
  {
   "cell_type": "code",
   "execution_count": 7,
   "metadata": {},
   "outputs": [
    {
     "name": "stdout",
     "output_type": "stream",
     "text": [
      "Cost after iteration 0: 6.926759\n",
      "Cost after iteration 200: 0.799479\n",
      "Cost after iteration 400: 0.530801\n",
      "Cost after iteration 600: 0.439886\n",
      "Cost after iteration 800: 0.384232\n",
      "Cost after iteration 1000: 0.343702\n",
      "Cost after iteration 1200: 0.311870\n",
      "Cost after iteration 1400: 0.285498\n",
      "Cost after iteration 1600: 0.263003\n",
      "Cost after iteration 1800: 0.243463\n",
      "Cost after iteration 2000: 0.226432\n",
      "Cost after iteration 2200: 0.211427\n",
      "Cost after iteration 2400: 0.198095\n",
      "Cost after iteration 2600: 0.186127\n",
      "Cost after iteration 2800: 0.175351\n",
      "Cost after iteration 3000: 0.165590\n",
      "Cost after iteration 3200: 0.156695\n",
      "Cost after iteration 3400: 0.148495\n",
      "Cost after iteration 3600: 0.140879\n",
      "Cost after iteration 3800: 0.133818\n",
      "Cost after iteration 4000: 0.127258\n",
      "Cost after iteration 4200: 0.121138\n",
      "Cost after iteration 4400: 0.115420\n",
      "Cost after iteration 4600: 0.110055\n",
      "Cost after iteration 4800: 0.105012\n"
     ]
    },
    {
     "data": {
      "image/png": "[encoded data removed]",
      "text/plain": [
       "<Figure size 432x288 with 1 Axes>"
      ]
     },
     "metadata": {
      "needs_background": "light"
     },
     "output_type": "display_data"
    }
   ],
   "source": [
    "classifier2 = NeuralNetwork([n_x, 100, n_y])\n",
    "classifier2.fit(X_train, Y_train, 0.1, 5000, 200, True)"
   ]
  },
  {
   "cell_type": "code",
   "execution_count": 8,
   "metadata": {},
   "outputs": [
    {
     "name": "stdout",
     "output_type": "stream",
     "text": [
      "Cost after iteration 0: 6.931473\n",
      "Cost after iteration 200: 3.249771\n",
      "Cost after iteration 400: 3.249770\n",
      "Cost after iteration 600: 3.249768\n",
      "Cost after iteration 800: 3.249766\n",
      "Cost after iteration 1000: 3.249764\n",
      "Cost after iteration 1200: 3.249761\n",
      "Cost after iteration 1400: 3.249758\n",
      "Cost after iteration 1600: 3.249753\n",
      "Cost after iteration 1800: 3.249747\n",
      "Cost after iteration 2000: 3.249738\n",
      "Cost after iteration 2200: 3.249724\n",
      "Cost after iteration 2400: 3.249703\n",
      "Cost after iteration 2600: 3.249665\n",
      "Cost after iteration 2800: 3.249585\n",
      "Cost after iteration 3000: 3.249367\n",
      "Cost after iteration 3200: 3.248295\n",
      "Cost after iteration 3400: 3.169690\n",
      "Cost after iteration 3600: 2.666915\n",
      "Cost after iteration 3800: 2.498405\n",
      "Cost after iteration 4000: 2.308092\n",
      "Cost after iteration 4200: 2.046383\n",
      "Cost after iteration 4400: 1.693445\n",
      "Cost after iteration 4600: 1.153393\n",
      "Cost after iteration 4800: 0.740902\n"
     ]
    },
    {
     "data": {
      "image/png": "[encoded data removed]",
      "text/plain": [
       "<Figure size 432x288 with 1 Axes>"
      ]
     },
     "metadata": {
      "needs_background": "light"
     },
     "output_type": "display_data"
    }
   ],
   "source": [
    "classifier3 = NeuralNetwork([n_x, 16, 32, 64, n_y])\n",
    "classifier3.fit(X_train, Y_train, 0.1, 5000, 200, True)"
   ]
  },
  {
   "cell_type": "code",
   "execution_count": 16,
   "metadata": {},
   "outputs": [
    {
     "name": "stdout",
     "output_type": "stream",
     "text": [
      "(10, 2653)\n",
      "Predicted:\n",
      "[0. 1. 0. 0. 0. 0. 0. 0. 0. 0.]\n",
      "Actual Value:\n",
      "[0. 1. 0. 0. 0. 0. 0. 0. 0. 0.]\n",
      "Score on Test data: 98.16057293629854%\n"
     ]
    },
    {
     "data": {
      "image/png": "[encoded data removed]",
      "text/plain": [
       "<Figure size 432x288 with 1 Axes>"
      ]
     },
     "metadata": {
      "needs_background": "light"
     },
     "output_type": "display_data"
    }
   ],
   "source": [
    "P_test = classifier3.predict(X_test)\n",
    "P_test = (P_test == np.max(P_test, axis=0)) + np.zeros((10,1))\n",
    "print(P_test.shape)\n",
    "index = 31\n",
    "print(\"Predicted:\")\n",
    "print(P_test.T[index])\n",
    "print(\"Actual Value:\")\n",
    "print(Y_test.T[index])\n",
    "plt.imshow(X_test.T[index].reshape(28,28), cmap='gray')\n",
    "\n",
    "accuracy = np.equal(Y_test.T, P_test.T) + 0\n",
    "score = np.sum(accuracy) / (accuracy.shape[0]*accuracy.shape[1]) * 100\n",
    "print(\"Score on Test data: \" + str(score) + \"%\")"
   ]
  }
 ],
 "metadata": {
  "kernelspec": {
   "display_name": "Python 3",
   "language": "python",
   "name": "python3"
  },
  "language_info": {
   "codemirror_mode": {
    "name": "ipython",
    "version": 3
   },
   "file_extension": ".py",
   "mimetype": "text/x-python",
   "name": "python",
   "nbconvert_exporter": "python",
   "pygments_lexer": "ipython3",
   "version": "3.8.1"
  }
 },
 "nbformat": 4,
 "nbformat_minor": 2
}
