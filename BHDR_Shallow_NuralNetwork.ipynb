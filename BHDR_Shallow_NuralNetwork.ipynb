{
 "cells": [
  {
   "cell_type": "markdown",
   "metadata": {},
   "source": [
    "# Bangla Handwritten Digits Classification\n",
    "Using With Shallow Nural Network\n",
    "\n",
    "*Dataset Source: [Bengali.ai](https://bengali.ai/)*"
   ]
  },
  {
   "cell_type": "code",
   "execution_count": 2,
   "metadata": {},
   "outputs": [],
   "source": [
    "import numpy as np\n",
    "import pandas as pd\n",
    "import matplotlib.pyplot as plt\n",
    "from sklearn.preprocessing import OneHotEncoder\n",
    "\n",
    "%matplotlib inline"
   ]
  },
  {
   "cell_type": "markdown",
   "metadata": {},
   "source": [
    "### Loading and setting up the dataset"
   ]
  },
  {
   "cell_type": "code",
   "execution_count": 3,
   "metadata": {},
   "outputs": [
    {
     "name": "stdout",
     "output_type": "stream",
     "text": [
      "(784, 23824)\n",
      "(10, 23824)\n",
      "(784, 2653)\n",
      "(10, 2653)\n"
     ]
    }
   ],
   "source": [
    "# Loading the dataset\n",
    "X_train = pd.read_json('./dataset/train_images.json', ' ').to_numpy().T\n",
    "Y_train = pd.read_json('./dataset/train_labels.json', ' ').to_numpy()\n",
    "X_test = pd.read_json('./dataset/test_images.json', ' ').to_numpy().T\n",
    "Y_test = pd.read_json('./dataset/test_labels.json', ' ').to_numpy()\n",
    "\n",
    "# Setting up the label\n",
    "ohe_y = OneHotEncoder()\n",
    "Y_train = ohe_y.fit_transform(Y_train).toarray().T\n",
    "Y_test = ohe_y.fit_transform(Y_test).toarray().T\n",
    "\n",
    "# Checking the shape of the dataset\n",
    "print(X_train.shape)\n",
    "print(Y_train.shape)\n",
    "print(X_test.shape)\n",
    "print(Y_test.shape)\n",
    "\n",
    "# Normalizing the dataset\n",
    "X_test = X_test / 255\n",
    "X_train = X_train / 255"
   ]
  },
  {
   "cell_type": "code",
   "execution_count": 4,
   "metadata": {},
   "outputs": [
    {
     "name": "stdout",
     "output_type": "stream",
     "text": [
      "[0. 0. 0. 0. 0. 0. 0. 1. 0. 0.]\n"
     ]
    },
    {
     "data": {
      "image/png": "[encoded data removed]",
      "text/plain": [
       "<Figure size 432x288 with 1 Axes>"
      ]
     },
     "metadata": {
      "needs_background": "light"
     },
     "output_type": "display_data"
    }
   ],
   "source": [
    "# Checking up some data\n",
    "index = 334\n",
    "temp_x_data = X_train.T[index].reshape(28, 28)\n",
    "temp_y_data = Y_train.T[index]\n",
    "\n",
    "plt.imshow(temp_x_data, cmap='gray')\n",
    "print(temp_y_data)"
   ]
  },
  {
   "cell_type": "code",
   "execution_count": 5,
   "metadata": {},
   "outputs": [
    {
     "name": "stdout",
     "output_type": "stream",
     "text": [
      "Number of training data: 23824\n",
      "Number of testing data: 2653\n",
      "Number of input params: 784\n",
      "Number of output params: 10\n"
     ]
    }
   ],
   "source": [
    "# Getting shapes and sizes\n",
    "m_train = Y_train.shape[1]\n",
    "m_test = Y_test.shape[1]\n",
    "\n",
    "# Size of input and output\n",
    "n_x = X_test.shape[0]\n",
    "n_y = Y_test.shape[0]\n",
    "\n",
    "print('Number of training data: ' + str(m_train))\n",
    "print('Number of testing data: ' + str(m_test))\n",
    "\n",
    "print('Number of input params: ' + str(n_x))\n",
    "print('Number of output params: ' + str(n_y))"
   ]
  },
  {
   "cell_type": "markdown",
   "metadata": {},
   "source": [
    "### Necessary functions for Nural Network"
   ]
  },
  {
   "cell_type": "code",
   "execution_count": 6,
   "metadata": {},
   "outputs": [],
   "source": [
    "# Sigmoid Function\n",
    "def sigmoid(x):\n",
    "    return 1 / (1 + np.exp(-x))\n",
    "\n",
    "# Derivative of sigmoid function\n",
    "def sigmoid_prime(x):\n",
    "    return sigmoid(x) * (1 - sigmoid(x))\n",
    "\n",
    "# Derivative of tanh function\n",
    "def tanh_prime(x):\n",
    "    return 1 - np.pow(np.tanh(x), 2)"
   ]
  },
  {
   "cell_type": "markdown",
   "metadata": {},
   "source": [
    "### Now it's time for Neural net"
   ]
  },
  {
   "cell_type": "code",
   "execution_count": 7,
   "metadata": {},
   "outputs": [],
   "source": [
    "# Initialize weights and biases\n",
    "def init_params(n_x, n_h, n_y):\n",
    "    W1 = np.random.randn(n_h, n_x) * 0.01\n",
    "    b1 = np.zeros((n_h, 1))\n",
    "    W2 = np.random.randn(n_y, n_h) * 0.01\n",
    "    b2 = np.zeros((n_y, 1))\n",
    "    \n",
    "    params = {\n",
    "        \"W1\": W1,\n",
    "        \"b1\": b1,\n",
    "        \"W2\": W2,\n",
    "        \"b2\": b2\n",
    "    }\n",
    "    \n",
    "    return params"
   ]
  },
  {
   "cell_type": "markdown",
   "metadata": {},
   "source": [
    "### Forward Propagation"
   ]
  },
  {
   "cell_type": "code",
   "execution_count": 8,
   "metadata": {},
   "outputs": [],
   "source": [
    "def forward_prop(X, params):\n",
    "    W1 = params[\"W1\"]\n",
    "    W2 = params[\"W2\"]\n",
    "    b1 = params[\"b1\"]\n",
    "    b2 = params[\"b2\"]\n",
    "    \n",
    "    Z1 = np.dot(W1, X) + b1\n",
    "    A1 = np.tanh(Z1)\n",
    "    Z2 = np.dot(W2, A1) + b2\n",
    "    A2 = sigmoid(Z2)\n",
    "    \n",
    "    cache = {\n",
    "        \"Z1\": Z1,\n",
    "        \"A1\": A1,\n",
    "        \"Z2\": Z2,\n",
    "        \"A2\": A2\n",
    "    }\n",
    "    \n",
    "    return A2, cache"
   ]
  },
  {
   "cell_type": "code",
   "execution_count": 9,
   "metadata": {},
   "outputs": [],
   "source": [
    "params = init_params(n_x, 50, n_y)\n",
    "A2, cache = forward_prop(X_train, params)"
   ]
  },
  {
   "cell_type": "code",
   "execution_count": 10,
   "metadata": {},
   "outputs": [],
   "source": [
    "# Calculating the cost\n",
    "def compute_cost(A2, Y):\n",
    "    m = Y.shape[1]\n",
    "    logprobs = (Y * np.log(A2)) + ((1 - Y) * np.log(1 - A2))\n",
    "    cost = - np.sum(logprobs) / m\n",
    "    return cost"
   ]
  },
  {
   "cell_type": "code",
   "execution_count": 11,
   "metadata": {},
   "outputs": [
    {
     "name": "stdout",
     "output_type": "stream",
     "text": [
      "6.933304203366307\n"
     ]
    }
   ],
   "source": [
    "cost = compute_cost(A2, Y_train)\n",
    "print(cost)"
   ]
  },
  {
   "cell_type": "code",
   "execution_count": 12,
   "metadata": {},
   "outputs": [],
   "source": [
    "# The back propagation function\n",
    "def back_prop(params, cache, X, Y):\n",
    "    m = X.shape[1]\n",
    "    \n",
    "    W1 = params[\"W1\"]\n",
    "    W2 = params[\"W2\"]\n",
    "    \n",
    "    A1 = cache[\"A1\"]\n",
    "    A2 = cache[\"A2\"]\n",
    "    \n",
    "    dZ2 = A2 - Y\n",
    "    dW2 = (1 / m) * np.dot(dZ2, A1.T)\n",
    "    db2 = (1 / m) * np.sum(dZ2, axis=1, keepdims=True)\n",
    "    dZ1 = np.dot(W2.T, dZ2) * (1- np.power(A1, 2))\n",
    "    dW1 = (1 / m) * np.dot(dZ1, X.T)\n",
    "    db1 = (1 / m) * np.sum(dZ1, axis=1, keepdims=True)\n",
    "    \n",
    "    grads = {\n",
    "        \"dW1\": dW1,\n",
    "        \"db1\": db1,\n",
    "        \"dW2\": dW2,\n",
    "        \"db2\": db2\n",
    "    }\n",
    "    \n",
    "    return grads"
   ]
  },
  {
   "cell_type": "code",
   "execution_count": 13,
   "metadata": {},
   "outputs": [],
   "source": [
    "grads = back_prop(params, cache, X_train, Y_train)"
   ]
  },
  {
   "cell_type": "code",
   "execution_count": 14,
   "metadata": {},
   "outputs": [],
   "source": [
    "# Use gradiants to update parameters\n",
    "def update_params(params, grads, learning_rate=0.05):\n",
    "    W1 = params[\"W1\"]\n",
    "    W2 = params[\"W2\"]\n",
    "    b1 = params[\"b1\"]\n",
    "    b2 = params[\"b2\"]\n",
    "    \n",
    "    dW1 = grads[\"dW1\"]\n",
    "    db1 = grads[\"db1\"]\n",
    "    dW2 = grads[\"dW2\"]\n",
    "    db2 = grads[\"db2\"]\n",
    "    \n",
    "    W1 = W1 - learning_rate * dW1\n",
    "    b1 = b1 - learning_rate * db1\n",
    "    W2 = W2 - learning_rate * dW2\n",
    "    b2 = b2 - learning_rate * db2\n",
    "    \n",
    "    parameters = {\n",
    "        \"W1\": W1,\n",
    "        \"b1\": b1,\n",
    "        \"W2\": W2,\n",
    "        \"b2\": b2\n",
    "    }\n",
    "    \n",
    "    return parameters"
   ]
  },
  {
   "cell_type": "code",
   "execution_count": 15,
   "metadata": {},
   "outputs": [
    {
     "data": {
      "text/plain": [
       "{'W1': array([[-0.01682112,  0.00266626,  0.0143246 , ...,  0.00492806,\n",
       "          0.00078815, -0.01450614],\n",
       "        [-0.00591965,  0.01258518, -0.00605391, ..., -0.01265559,\n",
       "          0.00884261,  0.00124575],\n",
       "        [ 0.00365298, -0.00513976,  0.00793734, ..., -0.00420375,\n",
       "         -0.00297382,  0.01336856],\n",
       "        ...,\n",
       "        [-0.01212716, -0.01575354,  0.00458641, ...,  0.01926161,\n",
       "         -0.0013448 , -0.02881942],\n",
       "        [-0.00519822, -0.00664663, -0.00521573, ...,  0.00350898,\n",
       "         -0.00058103,  0.00789649],\n",
       "        [ 0.00076688,  0.01807235, -0.0135538 , ...,  0.00016054,\n",
       "         -0.00120794, -0.00854753]]),\n",
       " 'b1': array([[-2.13857198e-04],\n",
       "        [-9.66768654e-04],\n",
       "        [-5.56283852e-04],\n",
       "        [ 7.87882194e-04],\n",
       "        [ 1.71156564e-04],\n",
       "        [ 2.68839324e-04],\n",
       "        [-6.20015820e-04],\n",
       "        [-9.06412729e-04],\n",
       "        [ 1.70635499e-04],\n",
       "        [-4.82710208e-05],\n",
       "        [ 7.53821057e-04],\n",
       "        [-1.22359021e-03],\n",
       "        [-8.98763742e-04],\n",
       "        [ 2.71851375e-04],\n",
       "        [ 4.28254177e-04],\n",
       "        [ 6.10426903e-04],\n",
       "        [-5.64921010e-04],\n",
       "        [ 5.61724979e-04],\n",
       "        [ 2.96567221e-04],\n",
       "        [ 3.57193444e-04],\n",
       "        [-4.30877459e-04],\n",
       "        [ 6.55708631e-04],\n",
       "        [ 6.24193257e-04],\n",
       "        [-8.71850181e-04],\n",
       "        [ 1.73185966e-04],\n",
       "        [ 2.30218564e-04],\n",
       "        [ 5.49456918e-04],\n",
       "        [-1.63987963e-04],\n",
       "        [-3.23928487e-04],\n",
       "        [-5.06618118e-04],\n",
       "        [-2.25501299e-04],\n",
       "        [-3.37138908e-04],\n",
       "        [ 1.64962409e-03],\n",
       "        [-4.27583704e-04],\n",
       "        [-2.18910022e-04],\n",
       "        [ 1.39345029e-04],\n",
       "        [ 5.68349159e-04],\n",
       "        [ 3.47868452e-04],\n",
       "        [-3.30043196e-06],\n",
       "        [ 4.58100266e-04],\n",
       "        [-2.73668974e-07],\n",
       "        [-1.36358711e-05],\n",
       "        [ 1.30695248e-04],\n",
       "        [ 1.32820258e-03],\n",
       "        [ 3.95169403e-04],\n",
       "        [-1.02506565e-03],\n",
       "        [-8.18692579e-04],\n",
       "        [ 3.44883865e-04],\n",
       "        [-3.71465691e-04],\n",
       "        [-5.87567954e-04]]),\n",
       " 'W2': array([[-2.27923695e-03,  1.22772474e-02,  9.91764433e-03,\n",
       "         -1.51716094e-02, -8.80416369e-03,  2.89492080e-03,\n",
       "          7.69316761e-03,  6.80267546e-03,  7.73418432e-03,\n",
       "         -4.47239572e-03, -5.45991897e-03, -5.40676825e-03,\n",
       "         -5.93765836e-03, -5.81377939e-04, -1.58122175e-02,\n",
       "          3.14735214e-03, -8.62704893e-03,  1.07603118e-02,\n",
       "          8.36201097e-04, -4.71752984e-03,  1.59386638e-03,\n",
       "          1.86742060e-03,  2.00248338e-02,  6.08547239e-04,\n",
       "          1.39980269e-02,  2.93676837e-03,  2.64639449e-03,\n",
       "          1.79056154e-02,  8.96992582e-03,  1.57221702e-02,\n",
       "         -4.25027998e-03,  3.82788254e-03, -1.49555133e-02,\n",
       "         -5.50905678e-05, -1.64465764e-03, -6.54701172e-03,\n",
       "         -5.31117629e-04, -1.13297809e-02, -4.30465931e-03,\n",
       "         -1.13275798e-02,  5.67455238e-03, -7.70862222e-03,\n",
       "          1.94740535e-02,  2.94133381e-03, -7.92854696e-03,\n",
       "         -4.00524072e-03,  1.30659983e-03,  1.50262304e-02,\n",
       "         -2.65228774e-03, -2.93654235e-03],\n",
       "        [-8.26893993e-03, -1.94399060e-03, -6.47017188e-03,\n",
       "         -1.96685014e-02, -2.21176179e-03, -1.98660120e-02,\n",
       "          4.36940764e-03,  1.55418620e-02,  4.52266989e-04,\n",
       "          3.76155462e-03, -5.01967279e-03,  1.54859241e-02,\n",
       "          1.05916529e-02,  1.02704039e-02, -1.15290635e-02,\n",
       "         -1.56537814e-02,  1.71536424e-02,  4.39199089e-03,\n",
       "         -7.40398519e-04, -9.72819299e-03,  1.60997223e-02,\n",
       "         -1.64118180e-02, -9.76378903e-03,  6.02020423e-03,\n",
       "         -2.39765877e-02, -7.14254626e-03,  9.35360396e-04,\n",
       "         -4.69615488e-03, -7.77221323e-03,  1.72863125e-02,\n",
       "          1.43279039e-02,  1.87506360e-03, -1.78179531e-02,\n",
       "          3.62281851e-03,  9.21337131e-03,  6.59223277e-03,\n",
       "         -1.23352910e-03,  1.40451172e-03,  1.51404712e-02,\n",
       "         -5.01596771e-03,  4.18154377e-03, -1.77358097e-02,\n",
       "          5.28873834e-03, -2.10235728e-03, -1.92229967e-02,\n",
       "          7.02487493e-03,  1.47922942e-02,  6.32431534e-03,\n",
       "          2.16792901e-03,  5.47957900e-03],\n",
       "        [-5.43753302e-03,  1.08344558e-02, -1.16202319e-02,\n",
       "          1.66753823e-02,  4.14224679e-03,  1.22119198e-02,\n",
       "         -2.09199294e-03,  1.69956009e-02,  4.46665388e-03,\n",
       "          1.63065884e-02, -2.11271438e-02,  3.35149982e-02,\n",
       "         -7.73849585e-03,  1.67071487e-02,  5.93578611e-03,\n",
       "         -1.70082462e-03,  1.02829142e-03, -4.40095564e-03,\n",
       "         -1.10823012e-02,  1.26778983e-02,  3.77764839e-03,\n",
       "         -7.53831068e-03, -1.03171851e-02,  7.28236038e-03,\n",
       "          4.77688093e-03, -3.20790095e-03, -6.68348571e-03,\n",
       "         -1.01075355e-02, -1.23209998e-03, -1.93914541e-03,\n",
       "         -8.20530801e-03,  3.21296618e-03, -1.72411138e-02,\n",
       "         -2.07213865e-02,  2.71338679e-03,  1.89190463e-03,\n",
       "          2.20547799e-03,  2.14307205e-03, -1.76122583e-02,\n",
       "         -2.62087026e-03, -5.74338187e-04,  4.90602997e-03,\n",
       "          1.58038379e-03, -3.32130741e-03,  2.94108254e-03,\n",
       "         -8.25172616e-03,  2.46495251e-03,  9.22535016e-03,\n",
       "         -5.61449744e-03, -5.18962616e-03],\n",
       "        [-3.08575069e-03,  9.09072848e-03,  4.68282561e-03,\n",
       "          3.44255176e-03,  5.24324566e-03,  1.43352431e-02,\n",
       "         -3.87451535e-04, -4.11043427e-03, -9.12306023e-03,\n",
       "         -1.47218097e-04, -1.62854453e-02, -5.90795620e-03,\n",
       "          1.70254661e-02, -1.77733197e-03, -3.73215265e-03,\n",
       "         -1.81162053e-02,  6.01003117e-03, -1.76922027e-02,\n",
       "          1.60487985e-02, -1.71172910e-02,  8.22446703e-03,\n",
       "         -1.17842099e-02, -3.40202092e-03, -4.97010180e-03,\n",
       "          1.43478244e-02, -1.37673548e-02, -1.91506655e-02,\n",
       "          4.34832651e-03, -2.47122402e-03,  1.51609689e-02,\n",
       "          2.75405754e-04,  1.02141427e-02,  2.31754126e-03,\n",
       "          8.64022025e-03, -1.30659608e-02, -6.44041879e-03,\n",
       "         -6.15976612e-03,  6.73922273e-04,  3.82829373e-03,\n",
       "         -4.96613737e-03, -9.00380546e-03,  6.57711203e-03,\n",
       "         -3.18004128e-03, -7.22950710e-03,  1.74872448e-03,\n",
       "         -8.88249650e-03,  1.69547164e-02, -2.25946296e-03,\n",
       "          1.00607690e-04, -2.27793695e-03],\n",
       "        [-9.56701572e-03, -7.67696242e-04,  1.92041217e-02,\n",
       "          7.00055924e-03, -8.96296293e-04,  4.02144890e-04,\n",
       "          8.03945597e-03,  5.15533689e-03,  3.48058535e-04,\n",
       "         -8.26371120e-03,  6.44458337e-03,  1.53014991e-02,\n",
       "         -7.21494243e-03,  6.08256491e-03,  1.46422201e-03,\n",
       "          1.02947113e-02, -4.55903794e-03, -7.07440373e-03,\n",
       "         -3.69755973e-03,  4.10261793e-03, -4.54574831e-03,\n",
       "          8.44176454e-03, -1.30337911e-03, -6.72415392e-04,\n",
       "         -1.56025891e-02, -1.41468525e-02,  2.43867093e-03,\n",
       "          1.16596177e-02, -1.67838123e-02, -4.05950413e-03,\n",
       "         -1.09221685e-03,  9.25443824e-03,  6.01545373e-03,\n",
       "          9.29521003e-03, -8.74568350e-03, -8.50634677e-04,\n",
       "         -9.86693159e-03,  1.41701711e-03, -1.39542629e-02,\n",
       "          3.86728442e-03, -3.09285108e-02,  2.49275990e-03,\n",
       "         -2.54804710e-03, -3.76848653e-02,  1.77317282e-04,\n",
       "          2.67484932e-03, -1.48208099e-02, -2.54988579e-03,\n",
       "         -3.27834167e-03,  2.54910874e-02],\n",
       "        [ 1.01582541e-03, -4.14974366e-03,  8.51952870e-03,\n",
       "         -1.02683175e-02,  1.41645899e-02, -5.99670882e-03,\n",
       "         -1.16870291e-03,  1.18533748e-02,  1.03430688e-02,\n",
       "         -1.39811634e-03,  9.46740062e-03,  4.15565920e-03,\n",
       "          1.15846933e-02, -4.71043430e-03,  2.79595599e-03,\n",
       "          6.55735741e-03,  6.29105264e-03, -3.86263647e-03,\n",
       "         -2.99127149e-03, -9.53952492e-03,  1.14168125e-03,\n",
       "         -2.30921028e-02, -3.53977101e-03,  9.49832724e-03,\n",
       "         -1.44858817e-03, -1.50221388e-02,  1.59639148e-04,\n",
       "          1.15606910e-02, -4.35736594e-03, -1.51127209e-03,\n",
       "          1.41527905e-02,  3.56583261e-03, -1.82212796e-02,\n",
       "          2.01451158e-02, -2.46975410e-03, -1.11313935e-02,\n",
       "         -1.02984918e-03,  3.55582686e-03,  1.09048956e-02,\n",
       "         -1.47944067e-02,  1.30809864e-02,  6.80798962e-03,\n",
       "          6.82206629e-04,  1.54029291e-02, -1.58847972e-03,\n",
       "          1.63529469e-02,  3.97750717e-03,  7.71556867e-03,\n",
       "         -2.77716232e-03,  3.46184197e-03],\n",
       "        [-8.77869746e-03,  1.12603900e-02, -6.89375422e-03,\n",
       "         -3.34536176e-03, -8.00238308e-03,  4.22825082e-03,\n",
       "          8.99099053e-03,  1.45180075e-02, -4.24364387e-03,\n",
       "         -2.28712031e-02,  7.56050454e-03, -1.36909391e-02,\n",
       "          1.91885997e-02, -8.26926615e-03,  1.33500728e-02,\n",
       "         -1.14464278e-02,  9.15643038e-03, -2.79444708e-03,\n",
       "         -3.13931540e-03,  2.56930775e-03, -8.42691635e-03,\n",
       "          5.42318558e-03, -1.26566359e-02,  1.75667005e-02,\n",
       "          5.24732693e-03,  2.32079744e-02, -4.09003511e-03,\n",
       "          1.37233088e-03,  5.56522134e-04,  1.54117985e-03,\n",
       "         -1.35039737e-03, -9.48644324e-03, -7.88121909e-03,\n",
       "         -9.12654773e-04,  1.40593247e-03, -1.26656565e-03,\n",
       "         -1.33580081e-02, -8.05624916e-03,  1.34965498e-02,\n",
       "          2.70711929e-02,  8.99716545e-03,  6.66533565e-03,\n",
       "          1.09199118e-03, -8.37389036e-03,  1.22070475e-03,\n",
       "         -3.89013076e-03, -5.71973295e-03, -1.12184275e-03,\n",
       "          9.69966482e-03,  1.32196247e-02],\n",
       "        [ 2.04503287e-02,  5.78849473e-03, -8.18400117e-03,\n",
       "         -2.25204535e-02,  6.89689542e-04, -1.36987519e-02,\n",
       "          8.37695608e-03,  1.35115585e-02, -1.55994386e-02,\n",
       "         -1.20401481e-02,  2.78148982e-03,  1.00298090e-02,\n",
       "         -1.59593763e-02, -1.20522449e-02, -9.89403401e-03,\n",
       "         -2.16381195e-03, -1.84521798e-02, -1.40434457e-02,\n",
       "          9.41773960e-03, -5.22038732e-03, -3.85853105e-03,\n",
       "          5.31031669e-03, -1.26841313e-02,  2.14237753e-02,\n",
       "          1.20907261e-02, -6.36321324e-04, -3.85399587e-03,\n",
       "          3.47038715e-03,  1.40385423e-02, -9.81296390e-03,\n",
       "         -1.19136271e-02, -3.72091441e-03, -8.31146816e-03,\n",
       "          1.71394688e-02,  5.65967731e-03, -1.02927592e-02,\n",
       "          2.33696336e-03,  1.24921169e-03,  7.54885952e-03,\n",
       "         -2.28728574e-02,  8.09105918e-04, -4.28056873e-03,\n",
       "         -8.63927354e-03,  3.98683094e-03, -3.18402406e-03,\n",
       "          2.48212406e-02, -2.45147581e-03, -1.96386936e-02,\n",
       "          1.48951530e-03, -2.00569137e-02],\n",
       "        [ 7.31378069e-03,  6.11045052e-03,  2.24740662e-02,\n",
       "         -1.26067523e-02,  5.14238438e-03, -1.60078546e-03,\n",
       "         -1.16234601e-03, -4.19069544e-02,  1.19728129e-02,\n",
       "          1.88240739e-02, -1.05758034e-02,  1.08200723e-02,\n",
       "          7.95520630e-03, -1.21764832e-02, -1.57290142e-02,\n",
       "          4.47175725e-03, -9.53660660e-03,  1.14994001e-02,\n",
       "         -8.37770657e-04, -9.42408154e-03,  1.26528733e-02,\n",
       "         -9.13013604e-03, -7.43959003e-03,  3.46766315e-03,\n",
       "         -6.20278628e-03, -1.24505972e-02, -1.57021927e-04,\n",
       "         -1.21907339e-02,  1.52072334e-03, -1.74597310e-02,\n",
       "          5.03332798e-03,  3.59250433e-04,  4.54599491e-03,\n",
       "         -2.22034239e-02, -5.55957963e-03,  5.13457538e-03,\n",
       "         -5.30511678e-03, -1.34120116e-02, -1.24144364e-02,\n",
       "          9.79222430e-03,  5.16306529e-03, -2.52240722e-03,\n",
       "         -2.27196070e-03, -2.09594511e-02, -8.93593372e-03,\n",
       "          8.89027914e-03,  1.92657401e-02, -1.48936257e-02,\n",
       "          6.32705193e-03,  9.34464225e-03],\n",
       "        [ 1.30376543e-02, -8.92257720e-03, -1.63356614e-03,\n",
       "         -1.77539423e-03, -1.24303629e-02, -1.40855922e-02,\n",
       "          1.13320757e-02,  1.79435298e-02, -4.69469256e-03,\n",
       "          2.03057509e-03, -9.35782878e-04,  4.56205764e-03,\n",
       "          9.73209626e-03, -7.70276477e-03,  7.05136978e-03,\n",
       "         -9.36166603e-04,  3.16392441e-03, -7.10126133e-03,\n",
       "         -1.63708508e-03,  4.47777281e-03, -6.17039255e-04,\n",
       "          1.52567129e-02,  6.75840286e-03,  9.97787457e-03,\n",
       "         -5.08191880e-04,  2.06886389e-02,  6.95086783e-03,\n",
       "         -9.27903264e-04,  2.56932200e-02, -3.60633071e-03,\n",
       "          1.44321417e-02, -3.16961512e-03, -5.96457651e-03,\n",
       "          3.17157333e-03,  2.12033210e-02,  9.34637569e-03,\n",
       "          5.07176444e-03,  6.47447488e-03,  1.01659773e-02,\n",
       "          3.63930622e-03,  7.98998628e-03,  1.13827732e-03,\n",
       "         -7.21462051e-03, -1.14550129e-03,  3.92680696e-03,\n",
       "          1.32229318e-02,  1.47821816e-02,  2.48260516e-04,\n",
       "          1.75234410e-02,  2.89023363e-03]]),\n",
       " 'b2': array([[-0.02006397],\n",
       "        [-0.01975887],\n",
       "        [-0.02044761],\n",
       "        [-0.02013734],\n",
       "        [-0.01971988],\n",
       "        [-0.01964372],\n",
       "        [-0.02016498],\n",
       "        [-0.01985693],\n",
       "        [-0.02019685],\n",
       "        [-0.02000962]])}"
      ]
     },
     "execution_count": 15,
     "metadata": {},
     "output_type": "execute_result"
    }
   ],
   "source": [
    "update_params(params, grads)"
   ]
  },
  {
   "cell_type": "code",
   "execution_count": 16,
   "metadata": {},
   "outputs": [],
   "source": [
    "# The model for the neural net\n",
    "def nn_model(X, Y, n_h=100, n_iter=5000, learning_rate=0.05, print_cost=True):\n",
    "    n_x = X.shape[0]\n",
    "    n_y = Y.shape[0]\n",
    "    \n",
    "    params = init_params(n_x, n_h, n_y)\n",
    "    \n",
    "    for i in range(0, n_iter):\n",
    "        A2, cache = forward_prop(X, params)\n",
    "        cost = compute_cost(A2, Y)\n",
    "        grads = back_prop(params, cache, X, Y)\n",
    "        params = update_params(params, grads, learning_rate)\n",
    "        \n",
    "        if print_cost and i % 200 == 0:\n",
    "            print (\"Cost after iteration %i: %f\" %(i, cost))\n",
    "            \n",
    "    return params"
   ]
  },
  {
   "cell_type": "code",
   "execution_count": null,
   "metadata": {},
   "outputs": [
    {
     "name": "stdout",
     "output_type": "stream",
     "text": [
      "h=100, iter=5000, lr=0.1\n",
      "Cost after iteration 0: 6.934824\n",
      "Cost after iteration 200: 0.939684\n",
      "Cost after iteration 400: 0.573877\n",
      "Cost after iteration 600: 0.465685\n",
      "Cost after iteration 800: 0.406531\n",
      "Cost after iteration 1000: 0.365922\n",
      "Cost after iteration 1200: 0.334941\n",
      "Cost after iteration 1400: 0.309847\n",
      "Cost after iteration 1600: 0.288707\n",
      "Cost after iteration 1800: 0.270404\n",
      "Cost after iteration 2000: 0.254253\n",
      "Cost after iteration 2200: 0.239811\n",
      "Cost after iteration 2400: 0.226775\n",
      "Cost after iteration 2600: 0.214923\n"
     ]
    }
   ],
   "source": [
    "print(\"h=100, iter=5000, lr=0.1\")\n",
    "params2 = nn_model(X_train, Y_train, n_h=100, n_iter=10000, learning_rate=0.1)"
   ]
  },
  {
   "cell_type": "code",
   "execution_count": null,
   "metadata": {},
   "outputs": [],
   "source": [
    "print(\"h=200, iter=15000, lr=0.05\")\n",
    "params3 = nn_model(X_train, Y_train, n_h=200, n_iter=15000)"
   ]
  },
  {
   "cell_type": "code",
   "execution_count": null,
   "metadata": {},
   "outputs": [],
   "source": [
    "params4 = nn_model(X_train, Y_train, n_h=200, n_iter=15000, learning_rate=0.1)"
   ]
  },
  {
   "cell_type": "code",
   "execution_count": 26,
   "metadata": {},
   "outputs": [],
   "source": [
    "# Prediction\n",
    "def predict(X, params):\n",
    "    A2, cache = forward_prop(X, params)\n",
    "#     A2 = (A2 == np.max(A2, axis=0))\n",
    "    return A2"
   ]
  },
  {
   "cell_type": "code",
   "execution_count": 27,
   "metadata": {},
   "outputs": [
    {
     "name": "stdout",
     "output_type": "stream",
     "text": [
      "[[6.45921504e-04 2.28076450e-04 6.63638043e-04 ... 9.95208081e-01\n",
      "  5.72496343e-08 4.60119711e-04]\n",
      " [9.96190343e-01 2.27250914e-04 5.60155787e-05 ... 7.70374924e-03\n",
      "  2.38284440e-06 6.61506125e-05]\n",
      " [1.80873052e-08 2.07523671e-03 5.41847087e-05 ... 2.88671610e-06\n",
      "  1.33533285e-03 9.30239349e-01]\n",
      " ...\n",
      " [7.50676050e-08 2.57045211e-05 4.01849753e-04 ... 7.16833520e-03\n",
      "  2.18571461e-05 4.44437302e-05]\n",
      " [7.67974170e-03 8.20349689e-01 3.48966889e-03 ... 1.10206212e-04\n",
      "  1.17433909e-07 1.44398644e-01]\n",
      " [5.33011081e-01 1.43195260e-02 9.13180954e-07 ... 2.61526486e-06\n",
      "  2.54657518e-05 1.57573182e-02]]\n"
     ]
    }
   ],
   "source": [
    "A2 = predict(X_test, params)\n",
    "print(A2.T)"
   ]
  },
  {
   "cell_type": "code",
   "execution_count": null,
   "metadata": {},
   "outputs": [],
   "source": []
  },
  {
   "cell_type": "code",
   "execution_count": null,
   "metadata": {},
   "outputs": [],
   "source": []
  }
 ],
 "metadata": {
  "kernelspec": {
   "display_name": "Python 3",
   "language": "python",
   "name": "python3"
  },
  "language_info": {
   "codemirror_mode": {
    "name": "ipython",
    "version": 3
   },
   "file_extension": ".py",
   "mimetype": "text/x-python",
   "name": "python",
   "nbconvert_exporter": "python",
   "pygments_lexer": "ipython3",
   "version": "3.8.1"
  }
 },
 "nbformat": 4,
 "nbformat_minor": 2
}
