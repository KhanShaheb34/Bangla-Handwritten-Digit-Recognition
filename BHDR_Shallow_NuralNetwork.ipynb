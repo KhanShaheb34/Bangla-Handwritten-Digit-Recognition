{
 "cells": [
  {
   "cell_type": "markdown",
   "metadata": {},
   "source": [
    "# Bangla Handwritten Digits Classification\n",
    "Using With Shallow Nural Network\n",
    "\n",
    "*Dataset Source: [Bengali.ai](https://bengali.ai/)*"
   ]
  },
  {
   "cell_type": "code",
   "execution_count": 2,
   "metadata": {},
   "outputs": [],
   "source": [
    "import numpy as np\n",
    "import pandas as pd\n",
    "import matplotlib.pyplot as plt\n",
    "from sklearn.preprocessing import OneHotEncoder\n",
    "\n",
    "%matplotlib inline"
   ]
  },
  {
   "cell_type": "markdown",
   "metadata": {},
   "source": [
    "### Loading and setting up the dataset"
   ]
  },
  {
   "cell_type": "code",
   "execution_count": 3,
   "metadata": {},
   "outputs": [
    {
     "name": "stdout",
     "output_type": "stream",
     "text": [
      "(784, 23824)\n",
      "(10, 23824)\n",
      "(784, 2653)\n",
      "(10, 2653)\n"
     ]
    }
   ],
   "source": [
    "# Loading the dataset\n",
    "X_train = pd.read_json('./dataset/train_images.json', ' ').to_numpy().T\n",
    "Y_train = pd.read_json('./dataset/train_labels.json', ' ').to_numpy()\n",
    "X_test = pd.read_json('./dataset/test_images.json', ' ').to_numpy().T\n",
    "Y_test = pd.read_json('./dataset/test_labels.json', ' ').to_numpy()\n",
    "\n",
    "# Setting up the label\n",
    "ohe_y = OneHotEncoder()\n",
    "Y_train = ohe_y.fit_transform(Y_train).toarray().T\n",
    "Y_test = ohe_y.fit_transform(Y_test).toarray().T\n",
    "\n",
    "# Checking the shape of the dataset\n",
    "print(X_train.shape)\n",
    "print(Y_train.shape)\n",
    "print(X_test.shape)\n",
    "print(Y_test.shape)\n",
    "\n",
    "# Normalizing the dataset\n",
    "X_test = X_test / 255\n",
    "X_train = X_train / 255"
   ]
  },
  {
   "cell_type": "code",
   "execution_count": 4,
   "metadata": {},
   "outputs": [
    {
     "name": "stdout",
     "output_type": "stream",
     "text": [
      "[0. 0. 0. 0. 0. 0. 0. 1. 0. 0.]\n"
     ]
    },
    {
     "data": {
      "image/png": "[encoded data removed]",
      "text/plain": [
       "<Figure size 432x288 with 1 Axes>"
      ]
     },
     "metadata": {
      "needs_background": "light"
     },
     "output_type": "display_data"
    }
   ],
   "source": [
    "# Checking up some data\n",
    "index = 334\n",
    "temp_x_data = X_train.T[index].reshape(28, 28)\n",
    "temp_y_data = Y_train.T[index]\n",
    "\n",
    "plt.imshow(temp_x_data, cmap='gray')\n",
    "print(temp_y_data)"
   ]
  },
  {
   "cell_type": "code",
   "execution_count": 5,
   "metadata": {},
   "outputs": [
    {
     "name": "stdout",
     "output_type": "stream",
     "text": [
      "Number of training data: 23824\n",
      "Number of testing data: 2653\n",
      "Number of input params: 784\n",
      "Number of output params: 10\n"
     ]
    }
   ],
   "source": [
    "# Getting shapes and sizes\n",
    "m_train = Y_train.shape[1]\n",
    "m_test = Y_test.shape[1]\n",
    "\n",
    "# Size of input and output\n",
    "n_x = X_test.shape[0]\n",
    "n_y = Y_test.shape[0]\n",
    "\n",
    "print('Number of training data: ' + str(m_train))\n",
    "print('Number of testing data: ' + str(m_test))\n",
    "\n",
    "print('Number of input params: ' + str(n_x))\n",
    "print('Number of output params: ' + str(n_y))"
   ]
  },
  {
   "cell_type": "markdown",
   "metadata": {},
   "source": [
    "### Necessary functions for Nural Network"
   ]
  },
  {
   "cell_type": "code",
   "execution_count": 6,
   "metadata": {},
   "outputs": [],
   "source": [
    "# Sigmoid Function\n",
    "def sigmoid(x):\n",
    "    return 1 / (1 + np.exp(-x))\n",
    "\n",
    "# Derivative of sigmoid function\n",
    "def sigmoid_prime(x):\n",
    "    return sigmoid(x) * (1 - sigmoid(x))\n",
    "\n",
    "# Derivative of tanh function\n",
    "def tanh_prime(x):\n",
    "    return 1 - np.pow(np.tanh(x), 2)"
   ]
  },
  {
   "cell_type": "markdown",
   "metadata": {},
   "source": [
    "### Now it's time for Neural net"
   ]
  },
  {
   "cell_type": "code",
   "execution_count": 7,
   "metadata": {},
   "outputs": [],
   "source": [
    "# Initialize weights and biases\n",
    "def init_params(n_x, n_h, n_y):\n",
    "    W1 = np.random.randn(n_h, n_x) * 0.01\n",
    "    b1 = np.zeros((n_h, 1))\n",
    "    W2 = np.random.randn(n_y, n_h) * 0.01\n",
    "    b2 = np.zeros((n_y, 1))\n",
    "    \n",
    "    params = {\n",
    "        \"W1\": W1,\n",
    "        \"b1\": b1,\n",
    "        \"W2\": W2,\n",
    "        \"b2\": b2\n",
    "    }\n",
    "    \n",
    "    return params"
   ]
  },
  {
   "cell_type": "markdown",
   "metadata": {},
   "source": [
    "### Forward Propagation"
   ]
  },
  {
   "cell_type": "code",
   "execution_count": 8,
   "metadata": {},
   "outputs": [],
   "source": [
    "def forward_prop(X, params):\n",
    "    W1 = params[\"W1\"]\n",
    "    W2 = params[\"W2\"]\n",
    "    b1 = params[\"b1\"]\n",
    "    b2 = params[\"b2\"]\n",
    "    \n",
    "    Z1 = np.dot(W1, X) + b1\n",
    "    A1 = np.tanh(Z1)\n",
    "    Z2 = np.dot(W2, A1) + b2\n",
    "    A2 = sigmoid(Z2)\n",
    "    \n",
    "    cache = {\n",
    "        \"Z1\": Z1,\n",
    "        \"A1\": A1,\n",
    "        \"Z2\": Z2,\n",
    "        \"A2\": A2\n",
    "    }\n",
    "    \n",
    "    return A2, cache"
   ]
  },
  {
   "cell_type": "code",
   "execution_count": 9,
   "metadata": {},
   "outputs": [],
   "source": [
    "params = init_params(n_x, 50, n_y)\n",
    "A2, cache = forward_prop(X_train, params)"
   ]
  },
  {
   "cell_type": "code",
   "execution_count": 10,
   "metadata": {},
   "outputs": [],
   "source": [
    "# Calculating the cost\n",
    "def compute_cost(A2, Y):\n",
    "    m = Y.shape[1]\n",
    "    logprobs = (Y * np.log(A2)) + ((1 - Y) * np.log(1 - A2))\n",
    "    cost = - np.sum(logprobs) / m\n",
    "    return cost"
   ]
  },
  {
   "cell_type": "code",
   "execution_count": 11,
   "metadata": {},
   "outputs": [
    {
     "name": "stdout",
     "output_type": "stream",
     "text": [
      "6.933304203366307\n"
     ]
    }
   ],
   "source": [
    "cost = compute_cost(A2, Y_train)\n",
    "print(cost)"
   ]
  },
  {
   "cell_type": "code",
   "execution_count": 12,
   "metadata": {},
   "outputs": [],
   "source": [
    "# The back propagation function\n",
    "def back_prop(params, cache, X, Y):\n",
    "    m = X.shape[1]\n",
    "    \n",
    "    W1 = params[\"W1\"]\n",
    "    W2 = params[\"W2\"]\n",
    "    \n",
    "    A1 = cache[\"A1\"]\n",
    "    A2 = cache[\"A2\"]\n",
    "    \n",
    "    dZ2 = A2 - Y\n",
    "    dW2 = (1 / m) * np.dot(dZ2, A1.T)\n",
    "    db2 = (1 / m) * np.sum(dZ2, axis=1, keepdims=True)\n",
    "    dZ1 = np.dot(W2.T, dZ2) * (1- np.power(A1, 2))\n",
    "    dW1 = (1 / m) * np.dot(dZ1, X.T)\n",
    "    db1 = (1 / m) * np.sum(dZ1, axis=1, keepdims=True)\n",
    "    \n",
    "    grads = {\n",
    "        \"dW1\": dW1,\n",
    "        \"db1\": db1,\n",
    "        \"dW2\": dW2,\n",
    "        \"db2\": db2\n",
    "    }\n",
    "    \n",
    "    return grads"
   ]
  },
  {
   "cell_type": "code",
   "execution_count": 13,
   "metadata": {},
   "outputs": [],
   "source": [
    "grads = back_prop(params, cache, X_train, Y_train)"
   ]
  },
  {
   "cell_type": "code",
   "execution_count": 14,
   "metadata": {},
   "outputs": [],
   "source": [
    "# Use gradiants to update parameters\n",
    "def update_params(params, grads, learning_rate=0.05):\n",
    "    W1 = params[\"W1\"]\n",
    "    W2 = params[\"W2\"]\n",
    "    b1 = params[\"b1\"]\n",
    "    b2 = params[\"b2\"]\n",
    "    \n",
    "    dW1 = grads[\"dW1\"]\n",
    "    db1 = grads[\"db1\"]\n",
    "    dW2 = grads[\"dW2\"]\n",
    "    db2 = grads[\"db2\"]\n",
    "    \n",
    "    W1 = W1 - learning_rate * dW1\n",
    "    b1 = b1 - learning_rate * db1\n",
    "    W2 = W2 - learning_rate * dW2\n",
    "    b2 = b2 - learning_rate * db2\n",
    "    \n",
    "    parameters = {\n",
    "        \"W1\": W1,\n",
    "        \"b1\": b1,\n",
    "        \"W2\": W2,\n",
    "        \"b2\": b2\n",
    "    }\n",
    "    \n",
    "    return parameters"
   ]
  },
  {
   "cell_type": "code",
   "execution_count": 16,
   "metadata": {},
   "outputs": [],
   "source": [
    "# The model for the neural net\n",
    "def nn_model(X, Y, n_h=100, n_iter=5000, learning_rate=0.05, print_cost=True):\n",
    "    n_x = X.shape[0]\n",
    "    n_y = Y.shape[0]\n",
    "    \n",
    "    params = init_params(n_x, n_h, n_y)\n",
    "    \n",
    "    for i in range(0, n_iter):\n",
    "        A2, cache = forward_prop(X, params)\n",
    "        cost = compute_cost(A2, Y)\n",
    "        grads = back_prop(params, cache, X, Y)\n",
    "        params = update_params(params, grads, learning_rate)\n",
    "        \n",
    "        if print_cost and i % 200 == 0:\n",
    "            print (\"Cost after iteration %i: %f\" %(i, cost))\n",
    "            \n",
    "    return params"
   ]
  },
  {
   "cell_type": "code",
   "execution_count": 20,
   "metadata": {},
   "outputs": [
    {
     "name": "stdout",
     "output_type": "stream",
     "text": [
      "h=100, iter=10000, lr=0.1\n",
      "Cost after iteration 0: 6.927131\n",
      "Cost after iteration 200: 0.920930\n",
      "Cost after iteration 400: 0.571187\n",
      "Cost after iteration 600: 0.465236\n",
      "Cost after iteration 800: 0.406500\n",
      "Cost after iteration 1000: 0.365864\n",
      "Cost after iteration 1200: 0.334734\n",
      "Cost after iteration 1400: 0.309470\n",
      "Cost after iteration 1600: 0.288178\n",
      "Cost after iteration 1800: 0.269753\n",
      "Cost after iteration 2000: 0.253507\n",
      "Cost after iteration 2200: 0.238991\n",
      "Cost after iteration 2400: 0.225892\n",
      "Cost after iteration 2600: 0.213981\n",
      "Cost after iteration 2800: 0.203082\n",
      "Cost after iteration 3000: 0.193057\n",
      "Cost after iteration 3200: 0.183794\n",
      "Cost after iteration 3400: 0.175202\n",
      "Cost after iteration 3600: 0.167207\n",
      "Cost after iteration 3800: 0.159746\n",
      "Cost after iteration 4000: 0.152766\n",
      "Cost after iteration 4200: 0.146220\n",
      "Cost after iteration 4400: 0.140069\n",
      "Cost after iteration 4600: 0.134278\n",
      "Cost after iteration 4800: 0.128814\n",
      "Cost after iteration 5000: 0.123651\n",
      "Cost after iteration 5200: 0.118766\n",
      "Cost after iteration 5400: 0.114136\n",
      "Cost after iteration 5600: 0.109743\n",
      "Cost after iteration 5800: 0.105571\n",
      "Cost after iteration 6000: 0.101604\n",
      "Cost after iteration 6200: 0.097830\n",
      "Cost after iteration 6400: 0.094236\n",
      "Cost after iteration 6600: 0.090811\n",
      "Cost after iteration 6800: 0.087547\n",
      "Cost after iteration 7000: 0.084434\n",
      "Cost after iteration 7200: 0.081465\n",
      "Cost after iteration 7400: 0.078631\n",
      "Cost after iteration 7600: 0.075925\n",
      "Cost after iteration 7800: 0.073342\n",
      "Cost after iteration 8000: 0.070874\n",
      "Cost after iteration 8200: 0.068517\n",
      "Cost after iteration 8400: 0.066264\n",
      "Cost after iteration 8600: 0.064111\n",
      "Cost after iteration 8800: 0.062053\n",
      "Cost after iteration 9000: 0.060086\n",
      "Cost after iteration 9200: 0.058206\n",
      "Cost after iteration 9400: 0.056407\n",
      "Cost after iteration 9600: 0.054687\n",
      "Cost after iteration 9800: 0.053041\n"
     ]
    }
   ],
   "source": [
    "print(\"h=100, iter=10000, lr=0.1\")\n",
    "params2 = nn_model(X_train, Y_train, n_h=100, n_iter=10000, learning_rate=0.1)"
   ]
  },
  {
   "cell_type": "code",
   "execution_count": 42,
   "metadata": {},
   "outputs": [],
   "source": [
    "# Prediction\n",
    "def predict(X, params):\n",
    "    A2, cache = forward_prop(X, params)\n",
    "    A2 = (A2 == np.max(A2, axis=0)) + np.zeros((10,1))\n",
    "    return A2"
   ]
  },
  {
   "cell_type": "code",
   "execution_count": 65,
   "metadata": {},
   "outputs": [
    {
     "name": "stdout",
     "output_type": "stream",
     "text": [
      "Predicted:\n",
      "[0. 0. 0. 0. 1. 0. 0. 0. 0. 0.]\n",
      "Actual Value:\n",
      "[0. 0. 0. 0. 1. 0. 0. 0. 0. 0.]\n"
     ]
    },
    {
     "data": {
      "text/plain": [
       "<matplotlib.image.AxesImage at 0x7f3da5f52b20>"
      ]
     },
     "execution_count": 65,
     "metadata": {},
     "output_type": "execute_result"
    },
    {
     "data": {
      "image/png": "[encoded data removed]",
      "text/plain": [
       "<Figure size 432x288 with 1 Axes>"
      ]
     },
     "metadata": {
      "needs_background": "light"
     },
     "output_type": "display_data"
    }
   ],
   "source": [
    "A2 = predict(X_test, params2)\n",
    "index = 786\n",
    "print(\"Predicted:\")\n",
    "print(A2.T[index])\n",
    "print(\"Actual Value:\")\n",
    "print(Y_test.T[index])\n",
    "plt.imshow(X_test.T[index].reshape(28,28), cmap='gray')"
   ]
  },
  {
   "cell_type": "code",
   "execution_count": 70,
   "metadata": {},
   "outputs": [],
   "source": [
    "def test_accuracy(X, Y, params):\n",
    "    P = predict(X, params)\n",
    "    accuracy = np.equal(Y.T, P.T) + 0\n",
    "    score = np.sum(accuracy) / (accuracy.shape[0]*accuracy.shape[1]) * 100\n",
    "    return score"
   ]
  },
  {
   "cell_type": "code",
   "execution_count": 74,
   "metadata": {},
   "outputs": [
    {
     "name": "stdout",
     "output_type": "stream",
     "text": [
      "Score on train data: 99.94879113498992%\n",
      "Score on test data: 99.32906143987938%\n"
     ]
    }
   ],
   "source": [
    "test_score = test_accuracy(X_test, Y_test, params2)\n",
    "train_score = test_accuracy(X_train, Y_train, params2)\n",
    "\n",
    "print(\"Score on train data: {}%\".format(train_score))\n",
    "print(\"Score on test data: {}%\".format(test_score))"
   ]
  },
  {
   "cell_type": "markdown",
   "metadata": {},
   "source": [
    "> The accuracy is too much accuracy. This souldn't be this much for this kind of shallow network. I might show it to some specialist to check if I did everything perfectly!"
   ]
  }
 ],
 "metadata": {
  "kernelspec": {
   "display_name": "Python 3",
   "language": "python",
   "name": "python3"
  },
  "language_info": {
   "codemirror_mode": {
    "name": "ipython",
    "version": 3
   },
   "file_extension": ".py",
   "mimetype": "text/x-python",
   "name": "python",
   "nbconvert_exporter": "python",
   "pygments_lexer": "ipython3",
   "version": "3.8.1"
  }
 },
 "nbformat": 4,
 "nbformat_minor": 2
}
